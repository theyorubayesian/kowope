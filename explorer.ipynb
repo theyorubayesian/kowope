{
 "metadata": {
  "language_info": {
   "codemirror_mode": {
    "name": "ipython",
    "version": 3
   },
   "file_extension": ".py",
   "mimetype": "text/x-python",
   "name": "python",
   "nbconvert_exporter": "python",
   "pygments_lexer": "ipython3",
   "version": "3.6.8-final"
  },
  "orig_nbformat": 2,
  "kernelspec": {
   "name": "Python 3.6.8 64-bit",
   "display_name": "Python 3.6.8 64-bit",
   "metadata": {
    "interpreter": {
     "hash": "538e5862d24b1a3e5ce3680bcbc1bfded8e90787fb231efa28bb458150bc0bcd"
    }
   }
  }
 },
 "nbformat": 4,
 "nbformat_minor": 2,
 "cells": [
  {
   "cell_type": "code",
   "execution_count": 9,
   "metadata": {},
   "outputs": [],
   "source": [
    "import pandas as pd"
   ]
  },
  {
   "cell_type": "code",
   "execution_count": 7,
   "metadata": {},
   "outputs": [],
   "source": [
    "def get_data(path=\"data/Train_1.csv\"):\n",
    "    \"\"\"\n",
    "\n",
    "    \"\"\"\n",
    "    url = \"https://api.zindi.africa/v1/competitions/dsn-ai-bootcamp-qualification-hackathon/files/Train.csv\"\n",
    "    token = {\"auth_token\": \"hKhCphfxxZk6yjG6kJVbbj92\"}\n",
    "\n",
    "    response = requests.post(url, data=token)\n",
    "    data = response.content\n",
    "\n",
    "    with open(path, \"wb\") as f:\n",
    "        f.write(data)"
   ]
  },
  {
   "cell_type": "code",
   "execution_count": 11,
   "metadata": {},
   "outputs": [],
   "source": [
    "k = pd.read_csv(\"data/Train_1.csv\")"
   ]
  },
  {
   "cell_type": "code",
   "execution_count": 12,
   "metadata": {},
   "outputs": [
    {
     "output_type": "execute_result",
     "data": {
      "text/plain": [
       "(56000, 52)"
      ]
     },
     "metadata": {},
     "execution_count": 12
    }
   ],
   "source": [
    "k.shape"
   ]
  },
  {
   "cell_type": "code",
   "execution_count": 8,
   "metadata": {},
   "outputs": [],
   "source": [
    "get_data()"
   ]
  },
  {
   "cell_type": "code",
   "execution_count": 22,
   "metadata": {},
   "outputs": [],
   "source": [
    "from azureml.core import Experiment, Workspace"
   ]
  },
  {
   "cell_type": "code",
   "execution_count": 23,
   "metadata": {},
   "outputs": [
    {
     "output_type": "stream",
     "name": "stderr",
     "text": [
      "WARNING - Warning: Falling back to use azure cli login credentials.\nIf you run your code in unattended mode, i.e., where you can't give a user input, then we recommend to use ServicePrincipalAuthentication or MsiAuthentication.\nPlease refer to aka.ms/aml-notebook-auth for different authentication mechanisms in azureml-sdk.\n"
     ]
    }
   ],
   "source": [
    "ws = Workspace.from_config()\n",
    "\n",
    "# choose a name for experiment\n",
    "experiment_name = 'capstone'\n",
    "\n",
    "experiment=Experiment(ws, experiment_name)"
   ]
  },
  {
   "cell_type": "code",
   "execution_count": 26,
   "metadata": {},
   "outputs": [],
   "source": [
    "from scripts.cleaning import clean_data as cd\n",
    "from azureml.core import Dataset"
   ]
  },
  {
   "cell_type": "code",
   "execution_count": 25,
   "metadata": {},
   "outputs": [],
   "source": [
    "loan_dataset = Dataset.get_by_name(ws, name='loan_dataset')"
   ]
  },
  {
   "cell_type": "code",
   "execution_count": 30,
   "metadata": {},
   "outputs": [
    {
     "output_type": "execute_result",
     "data": {
      "text/plain": [
       "(195, 51)"
      ]
     },
     "metadata": {},
     "execution_count": 30
    }
   ],
   "source": [
    "clean_loan_dataset.shape"
   ]
  },
  {
   "cell_type": "code",
   "execution_count": 27,
   "metadata": {},
   "outputs": [],
   "source": [
    "clean_loan_dataset = cd(loan_dataset)"
   ]
  },
  {
   "cell_type": "code",
   "execution_count": 28,
   "metadata": {},
   "outputs": [
    {
     "output_type": "execute_result",
     "data": {
      "text/plain": [
       "(195, 51)"
      ]
     },
     "metadata": {},
     "execution_count": 28
    }
   ],
   "source": [
    "clean_loan_dataset.shape"
   ]
  },
  {
   "cell_type": "code",
   "execution_count": 3,
   "metadata": {},
   "outputs": [],
   "source": [
    "data = pd.read_csv(\"data/Train.csv\")"
   ]
  },
  {
   "cell_type": "code",
   "execution_count": 7,
   "metadata": {},
   "outputs": [],
   "source": [
    "from sklearn.impute import KNNImputer"
   ]
  },
  {
   "cell_type": "code",
   "execution_count": 12,
   "metadata": {},
   "outputs": [],
   "source": [
    "from sklearn.preprocessing import LabelEncoder\n",
    "\n",
    "def clean_data(data):\n",
    "    \"\"\"\n",
    "    \n",
    "    \"\"\"\n",
    "    #data_df = data.to_pandas_dataframe().dropna()\n",
    "    df = data.copy()\n",
    "    # Drop columns with >= 60% missing data\n",
    "    df.dropna(axis=1, thresh=0.6*len(df), inplace=True)\n",
    "    # Drop identification columns \n",
    "    df.drop(\"Applicant_ID\", axis=1, inplace=True)\n",
    "    # LabelEncode the label column \n",
    "    enc = LabelEncoder()\n",
    "    df.default_status = enc.fit_transform(df.default_status)\n",
    "    df.form_field47 = enc.fit_transform(df.form_field47)\n",
    "\n",
    "    return df"
   ]
  },
  {
   "cell_type": "code",
   "execution_count": 13,
   "metadata": {},
   "outputs": [],
   "source": [
    "clean_guy = clean_data(data)"
   ]
  },
  {
   "cell_type": "code",
   "execution_count": 19,
   "metadata": {},
   "outputs": [],
   "source": [
    "new_data = KNNImputer(n_neighbors=2, weights=\"distance\", add_indicator=True).fit_transform(clean_guy.loc[:100, :])"
   ]
  },
  {
   "cell_type": "code",
   "execution_count": 20,
   "metadata": {},
   "outputs": [
    {
     "output_type": "execute_result",
     "data": {
      "text/plain": [
       "(56000, 42)"
      ]
     },
     "metadata": {},
     "execution_count": 20
    }
   ],
   "source": [
    "clean_guy.shape"
   ]
  },
  {
   "cell_type": "code",
   "execution_count": 21,
   "metadata": {},
   "outputs": [
    {
     "output_type": "execute_result",
     "data": {
      "text/plain": [
       "         0        1       2        3        4              5           6   \\\n",
       "0    3436.0  0.28505  1.6560   0.0000   0.0000       0.000000  10689720.0   \n",
       "1    3456.0  0.67400  0.2342   0.0000   0.0000       0.000000    898979.0   \n",
       "2    3276.0  0.53845  3.1510   0.0000   6.2820   30377.061458    956940.0   \n",
       "3    3372.0  0.17005  0.5050   0.0000   0.0000  192166.000000   3044703.0   \n",
       "4    3370.0  0.77270  1.1010   0.0000   0.0000    1556.000000    214728.0   \n",
       "..      ...      ...     ...      ...      ...            ...         ...   \n",
       "96   3646.0  0.21695  0.0000   0.0000   0.0000  889643.000000   8885538.0   \n",
       "97   3520.0  1.16505  0.0544   0.0000   0.0000       0.000000   2412578.0   \n",
       "98   3550.0  0.32685  0.0000   0.0000   0.0000  113199.000000   3504501.0   \n",
       "99   3460.0  1.13555  2.9100   2.4858  12.7188  167659.000000   7531429.0   \n",
       "100  3332.0  0.72060  4.4774  10.5120   7.4520   29406.006954         0.0   \n",
       "\n",
       "               7           8           9   ...   59   60   61   62   63   64  \\\n",
       "0    2.520720e+05   4272776.0  11333126.0  ...  0.0  0.0  0.0  0.0  0.0  0.0   \n",
       "1    4.975310e+05   9073814.0   2533168.0  ...  0.0  0.0  0.0  0.0  0.0  0.0   \n",
       "2    4.376132e+04    192944.0   1079864.0  ...  0.0  0.0  0.0  0.0  0.0  0.0   \n",
       "3    3.854990e+05   3986472.0   3621979.0  ...  0.0  0.0  0.0  0.0  0.0  0.0   \n",
       "4    2.147280e+05   1284089.0    361770.0  ...  0.0  0.0  0.0  0.0  0.0  0.0   \n",
       "..            ...         ...         ...  ...  ...  ...  ...  ...  ...  ...   \n",
       "96   3.452375e+06  57416789.0  27023441.0  ...  0.0  0.0  0.0  0.0  0.0  0.0   \n",
       "97   1.909990e+05   6459345.0   5912411.0  ...  0.0  0.0  0.0  0.0  0.0  0.0   \n",
       "98   2.041861e+06   4047934.0   6160982.0  ...  0.0  0.0  0.0  0.0  0.0  0.0   \n",
       "99   1.156497e+06    809509.0  12759978.0  ...  0.0  0.0  0.0  0.0  0.0  0.0   \n",
       "100  5.133555e+04    298752.0         0.0  ...  0.0  0.0  0.0  0.0  0.0  0.0   \n",
       "\n",
       "      65   66   67   68  \n",
       "0    0.0  0.0  1.0  0.0  \n",
       "1    0.0  0.0  0.0  0.0  \n",
       "2    0.0  0.0  1.0  0.0  \n",
       "3    0.0  0.0  0.0  0.0  \n",
       "4    0.0  0.0  0.0  0.0  \n",
       "..   ...  ...  ...  ...  \n",
       "96   0.0  0.0  0.0  0.0  \n",
       "97   0.0  0.0  0.0  0.0  \n",
       "98   0.0  0.0  0.0  0.0  \n",
       "99   0.0  0.0  0.0  0.0  \n",
       "100  0.0  0.0  1.0  0.0  \n",
       "\n",
       "[101 rows x 69 columns]"
      ],
      "text/html": "<div>\n<style scoped>\n    .dataframe tbody tr th:only-of-type {\n        vertical-align: middle;\n    }\n\n    .dataframe tbody tr th {\n        vertical-align: top;\n    }\n\n    .dataframe thead th {\n        text-align: right;\n    }\n</style>\n<table border=\"1\" class=\"dataframe\">\n  <thead>\n    <tr style=\"text-align: right;\">\n      <th></th>\n      <th>0</th>\n      <th>1</th>\n      <th>2</th>\n      <th>3</th>\n      <th>4</th>\n      <th>5</th>\n      <th>6</th>\n      <th>7</th>\n      <th>8</th>\n      <th>9</th>\n      <th>...</th>\n      <th>59</th>\n      <th>60</th>\n      <th>61</th>\n      <th>62</th>\n      <th>63</th>\n      <th>64</th>\n      <th>65</th>\n      <th>66</th>\n      <th>67</th>\n      <th>68</th>\n    </tr>\n  </thead>\n  <tbody>\n    <tr>\n      <th>0</th>\n      <td>3436.0</td>\n      <td>0.28505</td>\n      <td>1.6560</td>\n      <td>0.0000</td>\n      <td>0.0000</td>\n      <td>0.000000</td>\n      <td>10689720.0</td>\n      <td>2.520720e+05</td>\n      <td>4272776.0</td>\n      <td>11333126.0</td>\n      <td>...</td>\n      <td>0.0</td>\n      <td>0.0</td>\n      <td>0.0</td>\n      <td>0.0</td>\n      <td>0.0</td>\n      <td>0.0</td>\n      <td>0.0</td>\n      <td>0.0</td>\n      <td>1.0</td>\n      <td>0.0</td>\n    </tr>\n    <tr>\n      <th>1</th>\n      <td>3456.0</td>\n      <td>0.67400</td>\n      <td>0.2342</td>\n      <td>0.0000</td>\n      <td>0.0000</td>\n      <td>0.000000</td>\n      <td>898979.0</td>\n      <td>4.975310e+05</td>\n      <td>9073814.0</td>\n      <td>2533168.0</td>\n      <td>...</td>\n      <td>0.0</td>\n      <td>0.0</td>\n      <td>0.0</td>\n      <td>0.0</td>\n      <td>0.0</td>\n      <td>0.0</td>\n      <td>0.0</td>\n      <td>0.0</td>\n      <td>0.0</td>\n      <td>0.0</td>\n    </tr>\n    <tr>\n      <th>2</th>\n      <td>3276.0</td>\n      <td>0.53845</td>\n      <td>3.1510</td>\n      <td>0.0000</td>\n      <td>6.2820</td>\n      <td>30377.061458</td>\n      <td>956940.0</td>\n      <td>4.376132e+04</td>\n      <td>192944.0</td>\n      <td>1079864.0</td>\n      <td>...</td>\n      <td>0.0</td>\n      <td>0.0</td>\n      <td>0.0</td>\n      <td>0.0</td>\n      <td>0.0</td>\n      <td>0.0</td>\n      <td>0.0</td>\n      <td>0.0</td>\n      <td>1.0</td>\n      <td>0.0</td>\n    </tr>\n    <tr>\n      <th>3</th>\n      <td>3372.0</td>\n      <td>0.17005</td>\n      <td>0.5050</td>\n      <td>0.0000</td>\n      <td>0.0000</td>\n      <td>192166.000000</td>\n      <td>3044703.0</td>\n      <td>3.854990e+05</td>\n      <td>3986472.0</td>\n      <td>3621979.0</td>\n      <td>...</td>\n      <td>0.0</td>\n      <td>0.0</td>\n      <td>0.0</td>\n      <td>0.0</td>\n      <td>0.0</td>\n      <td>0.0</td>\n      <td>0.0</td>\n      <td>0.0</td>\n      <td>0.0</td>\n      <td>0.0</td>\n    </tr>\n    <tr>\n      <th>4</th>\n      <td>3370.0</td>\n      <td>0.77270</td>\n      <td>1.1010</td>\n      <td>0.0000</td>\n      <td>0.0000</td>\n      <td>1556.000000</td>\n      <td>214728.0</td>\n      <td>2.147280e+05</td>\n      <td>1284089.0</td>\n      <td>361770.0</td>\n      <td>...</td>\n      <td>0.0</td>\n      <td>0.0</td>\n      <td>0.0</td>\n      <td>0.0</td>\n      <td>0.0</td>\n      <td>0.0</td>\n      <td>0.0</td>\n      <td>0.0</td>\n      <td>0.0</td>\n      <td>0.0</td>\n    </tr>\n    <tr>\n      <th>...</th>\n      <td>...</td>\n      <td>...</td>\n      <td>...</td>\n      <td>...</td>\n      <td>...</td>\n      <td>...</td>\n      <td>...</td>\n      <td>...</td>\n      <td>...</td>\n      <td>...</td>\n      <td>...</td>\n      <td>...</td>\n      <td>...</td>\n      <td>...</td>\n      <td>...</td>\n      <td>...</td>\n      <td>...</td>\n      <td>...</td>\n      <td>...</td>\n      <td>...</td>\n      <td>...</td>\n    </tr>\n    <tr>\n      <th>96</th>\n      <td>3646.0</td>\n      <td>0.21695</td>\n      <td>0.0000</td>\n      <td>0.0000</td>\n      <td>0.0000</td>\n      <td>889643.000000</td>\n      <td>8885538.0</td>\n      <td>3.452375e+06</td>\n      <td>57416789.0</td>\n      <td>27023441.0</td>\n      <td>...</td>\n      <td>0.0</td>\n      <td>0.0</td>\n      <td>0.0</td>\n      <td>0.0</td>\n      <td>0.0</td>\n      <td>0.0</td>\n      <td>0.0</td>\n      <td>0.0</td>\n      <td>0.0</td>\n      <td>0.0</td>\n    </tr>\n    <tr>\n      <th>97</th>\n      <td>3520.0</td>\n      <td>1.16505</td>\n      <td>0.0544</td>\n      <td>0.0000</td>\n      <td>0.0000</td>\n      <td>0.000000</td>\n      <td>2412578.0</td>\n      <td>1.909990e+05</td>\n      <td>6459345.0</td>\n      <td>5912411.0</td>\n      <td>...</td>\n      <td>0.0</td>\n      <td>0.0</td>\n      <td>0.0</td>\n      <td>0.0</td>\n      <td>0.0</td>\n      <td>0.0</td>\n      <td>0.0</td>\n      <td>0.0</td>\n      <td>0.0</td>\n      <td>0.0</td>\n    </tr>\n    <tr>\n      <th>98</th>\n      <td>3550.0</td>\n      <td>0.32685</td>\n      <td>0.0000</td>\n      <td>0.0000</td>\n      <td>0.0000</td>\n      <td>113199.000000</td>\n      <td>3504501.0</td>\n      <td>2.041861e+06</td>\n      <td>4047934.0</td>\n      <td>6160982.0</td>\n      <td>...</td>\n      <td>0.0</td>\n      <td>0.0</td>\n      <td>0.0</td>\n      <td>0.0</td>\n      <td>0.0</td>\n      <td>0.0</td>\n      <td>0.0</td>\n      <td>0.0</td>\n      <td>0.0</td>\n      <td>0.0</td>\n    </tr>\n    <tr>\n      <th>99</th>\n      <td>3460.0</td>\n      <td>1.13555</td>\n      <td>2.9100</td>\n      <td>2.4858</td>\n      <td>12.7188</td>\n      <td>167659.000000</td>\n      <td>7531429.0</td>\n      <td>1.156497e+06</td>\n      <td>809509.0</td>\n      <td>12759978.0</td>\n      <td>...</td>\n      <td>0.0</td>\n      <td>0.0</td>\n      <td>0.0</td>\n      <td>0.0</td>\n      <td>0.0</td>\n      <td>0.0</td>\n      <td>0.0</td>\n      <td>0.0</td>\n      <td>0.0</td>\n      <td>0.0</td>\n    </tr>\n    <tr>\n      <th>100</th>\n      <td>3332.0</td>\n      <td>0.72060</td>\n      <td>4.4774</td>\n      <td>10.5120</td>\n      <td>7.4520</td>\n      <td>29406.006954</td>\n      <td>0.0</td>\n      <td>5.133555e+04</td>\n      <td>298752.0</td>\n      <td>0.0</td>\n      <td>...</td>\n      <td>0.0</td>\n      <td>0.0</td>\n      <td>0.0</td>\n      <td>0.0</td>\n      <td>0.0</td>\n      <td>0.0</td>\n      <td>0.0</td>\n      <td>0.0</td>\n      <td>1.0</td>\n      <td>0.0</td>\n    </tr>\n  </tbody>\n</table>\n<p>101 rows × 69 columns</p>\n</div>"
     },
     "metadata": {},
     "execution_count": 21
    }
   ],
   "source": [
    "pd.DataFrame(new_data)"
   ]
  },
  {
   "cell_type": "code",
   "execution_count": null,
   "metadata": {},
   "outputs": [],
   "source": []
  }
 ]
}