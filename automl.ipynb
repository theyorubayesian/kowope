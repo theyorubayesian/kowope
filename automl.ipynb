{
 "cells": [
  {
   "cell_type": "markdown",
   "metadata": {},
   "source": [
    "# Automated ML"
   ]
  },
  {
   "cell_type": "code",
   "execution_count": 1,
   "metadata": {
    "gather": {
     "logged": 1598423888013
    },
    "jupyter": {
     "outputs_hidden": false,
     "source_hidden": false
    },
    "nteract": {
     "transient": {
      "deleting": false
     }
    }
   },
   "outputs": [],
   "source": [
    "from azureml.core import Experiment, Workspace"
   ]
  },
  {
   "cell_type": "code",
   "execution_count": 2,
   "metadata": {
    "gather": {
     "logged": 1598423890461
    },
    "jupyter": {
     "outputs_hidden": false,
     "source_hidden": false
    },
    "nteract": {
     "transient": {
      "deleting": false
     }
    }
   },
   "outputs": [
    {
     "output_type": "stream",
     "name": "stderr",
     "text": [
      "WARNING - Warning: Falling back to use azure cli login credentials.\nIf you run your code in unattended mode, i.e., where you can't give a user input, then we recommend to use ServicePrincipalAuthentication or MsiAuthentication.\nPlease refer to aka.ms/aml-notebook-auth for different authentication mechanisms in azureml-sdk.\n"
     ]
    }
   ],
   "source": [
    "ws = Workspace.from_config()\n",
    "\n",
    "# choose a name for experiment\n",
    "experiment_name = 'capstone'\n",
    "\n",
    "experiment=Experiment(ws, experiment_name)"
   ]
  },
  {
   "cell_type": "markdown",
   "metadata": {},
   "source": [
    "## Dataset\n",
    "\n",
    "### Overview\n",
    "TODO: In this markdown cell, give an overview of the dataset you are using. Also mention the task you will be performing.\n",
    "\n",
    "\n",
    "TODO: Get data. In the cell below, write code to access the data you will be using in this project. Remember that the dataset needs to be external."
   ]
  },
  {
   "source": [
    "Zindi: DSN AI Bootcamp Qualification Hackathon [data](https://zindi.africa/hackathons/dsn-ai-bootcamp-qualification-hackathon/data)"
   ],
   "cell_type": "markdown",
   "metadata": {}
  },
  {
   "cell_type": "code",
   "execution_count": 3,
   "metadata": {},
   "outputs": [],
   "source": [
    "from azureml.core import Dataset\n",
    "from sklearn.model_selection import train_test_split\n",
    "\n",
    "from scripts.cleaning import clean_data"
   ]
  },
  {
   "cell_type": "code",
   "execution_count": 4,
   "metadata": {},
   "outputs": [],
   "source": [
    "loan_dataset = Dataset.get_by_name(ws, name='loan_dataset')"
   ]
  },
  {
   "cell_type": "code",
   "execution_count": 5,
   "metadata": {},
   "outputs": [
    {
     "output_type": "execute_result",
     "data": {
      "text/plain": [
       "    Applicant_ID  form_field1  form_field2  form_field3  form_field4  \\\n",
       "0  Apcnt_1000000       3436.0      0.28505       1.6560          0.0   \n",
       "1  Apcnt_1000004       3456.0      0.67400       0.2342          0.0   \n",
       "2  Apcnt_1000008       3276.0      0.53845       3.1510          0.0   \n",
       "3  Apcnt_1000012       3372.0      0.17005       0.5050          0.0   \n",
       "4  Apcnt_1000016       3370.0      0.77270       1.1010          0.0   \n",
       "\n",
       "   form_field5  form_field6  form_field7  form_field8  form_field9  ...  \\\n",
       "0        0.000          0.0   10689720.0     252072.0    4272776.0  ...   \n",
       "1        0.000          0.0     898979.0     497531.0    9073814.0  ...   \n",
       "2        6.282          NaN     956940.0          NaN     192944.0  ...   \n",
       "3        0.000     192166.0    3044703.0     385499.0    3986472.0  ...   \n",
       "4        0.000       1556.0     214728.0     214728.0    1284089.0  ...   \n",
       "\n",
       "   form_field42  form_field43  form_field44  form_field45  form_field46  \\\n",
       "0      0.392854          2.02      0.711632           0.0           0.0   \n",
       "1      0.314281          8.08      0.183584           NaN           0.0   \n",
       "2      0.162965         18.18      0.791136           0.0           0.0   \n",
       "3      0.488884          2.02      0.685168           NaN           0.0   \n",
       "4      0.275000         12.12      0.438168           0.0           0.0   \n",
       "\n",
       "   form_field47  form_field48  form_field49  form_field50  default_status  \n",
       "0        charge           NaN      1.129518      0.044335              no  \n",
       "1        charge    349.805730      1.620483      0.322436              no  \n",
       "2        charge           NaN      1.513370      0.011640             yes  \n",
       "3        charge     89.940100      0.664452      0.082729              no  \n",
       "4        charge     97.887502      1.427891      0.045630              no  \n",
       "\n",
       "[5 rows x 52 columns]"
      ],
      "text/html": "<div>\n<style scoped>\n    .dataframe tbody tr th:only-of-type {\n        vertical-align: middle;\n    }\n\n    .dataframe tbody tr th {\n        vertical-align: top;\n    }\n\n    .dataframe thead th {\n        text-align: right;\n    }\n</style>\n<table border=\"1\" class=\"dataframe\">\n  <thead>\n    <tr style=\"text-align: right;\">\n      <th></th>\n      <th>Applicant_ID</th>\n      <th>form_field1</th>\n      <th>form_field2</th>\n      <th>form_field3</th>\n      <th>form_field4</th>\n      <th>form_field5</th>\n      <th>form_field6</th>\n      <th>form_field7</th>\n      <th>form_field8</th>\n      <th>form_field9</th>\n      <th>...</th>\n      <th>form_field42</th>\n      <th>form_field43</th>\n      <th>form_field44</th>\n      <th>form_field45</th>\n      <th>form_field46</th>\n      <th>form_field47</th>\n      <th>form_field48</th>\n      <th>form_field49</th>\n      <th>form_field50</th>\n      <th>default_status</th>\n    </tr>\n  </thead>\n  <tbody>\n    <tr>\n      <th>0</th>\n      <td>Apcnt_1000000</td>\n      <td>3436.0</td>\n      <td>0.28505</td>\n      <td>1.6560</td>\n      <td>0.0</td>\n      <td>0.000</td>\n      <td>0.0</td>\n      <td>10689720.0</td>\n      <td>252072.0</td>\n      <td>4272776.0</td>\n      <td>...</td>\n      <td>0.392854</td>\n      <td>2.02</td>\n      <td>0.711632</td>\n      <td>0.0</td>\n      <td>0.0</td>\n      <td>charge</td>\n      <td>NaN</td>\n      <td>1.129518</td>\n      <td>0.044335</td>\n      <td>no</td>\n    </tr>\n    <tr>\n      <th>1</th>\n      <td>Apcnt_1000004</td>\n      <td>3456.0</td>\n      <td>0.67400</td>\n      <td>0.2342</td>\n      <td>0.0</td>\n      <td>0.000</td>\n      <td>0.0</td>\n      <td>898979.0</td>\n      <td>497531.0</td>\n      <td>9073814.0</td>\n      <td>...</td>\n      <td>0.314281</td>\n      <td>8.08</td>\n      <td>0.183584</td>\n      <td>NaN</td>\n      <td>0.0</td>\n      <td>charge</td>\n      <td>349.805730</td>\n      <td>1.620483</td>\n      <td>0.322436</td>\n      <td>no</td>\n    </tr>\n    <tr>\n      <th>2</th>\n      <td>Apcnt_1000008</td>\n      <td>3276.0</td>\n      <td>0.53845</td>\n      <td>3.1510</td>\n      <td>0.0</td>\n      <td>6.282</td>\n      <td>NaN</td>\n      <td>956940.0</td>\n      <td>NaN</td>\n      <td>192944.0</td>\n      <td>...</td>\n      <td>0.162965</td>\n      <td>18.18</td>\n      <td>0.791136</td>\n      <td>0.0</td>\n      <td>0.0</td>\n      <td>charge</td>\n      <td>NaN</td>\n      <td>1.513370</td>\n      <td>0.011640</td>\n      <td>yes</td>\n    </tr>\n    <tr>\n      <th>3</th>\n      <td>Apcnt_1000012</td>\n      <td>3372.0</td>\n      <td>0.17005</td>\n      <td>0.5050</td>\n      <td>0.0</td>\n      <td>0.000</td>\n      <td>192166.0</td>\n      <td>3044703.0</td>\n      <td>385499.0</td>\n      <td>3986472.0</td>\n      <td>...</td>\n      <td>0.488884</td>\n      <td>2.02</td>\n      <td>0.685168</td>\n      <td>NaN</td>\n      <td>0.0</td>\n      <td>charge</td>\n      <td>89.940100</td>\n      <td>0.664452</td>\n      <td>0.082729</td>\n      <td>no</td>\n    </tr>\n    <tr>\n      <th>4</th>\n      <td>Apcnt_1000016</td>\n      <td>3370.0</td>\n      <td>0.77270</td>\n      <td>1.1010</td>\n      <td>0.0</td>\n      <td>0.000</td>\n      <td>1556.0</td>\n      <td>214728.0</td>\n      <td>214728.0</td>\n      <td>1284089.0</td>\n      <td>...</td>\n      <td>0.275000</td>\n      <td>12.12</td>\n      <td>0.438168</td>\n      <td>0.0</td>\n      <td>0.0</td>\n      <td>charge</td>\n      <td>97.887502</td>\n      <td>1.427891</td>\n      <td>0.045630</td>\n      <td>no</td>\n    </tr>\n  </tbody>\n</table>\n<p>5 rows × 52 columns</p>\n</div>"
     },
     "metadata": {},
     "execution_count": 5
    }
   ],
   "source": [
    "loan_dataset.to_pandas_dataframe().head()"
   ]
  },
  {
   "cell_type": "code",
   "execution_count": 6,
   "metadata": {},
   "outputs": [
    {
     "output_type": "execute_result",
     "data": {
      "text/plain": [
       "       form_field1  form_field2  form_field3  form_field4  form_field5  \\\n",
       "4582        3500.0      0.43040       0.0000          0.0       0.0000   \n",
       "50148       3550.0      0.10010       1.2900          0.0       0.0000   \n",
       "30190       3426.0      0.81005       0.8574          0.0       0.0000   \n",
       "54728       3502.0      0.71285       0.0000          0.0       0.0000   \n",
       "38352       3400.0      0.41410       2.3760          0.0       2.1528   \n",
       "\n",
       "       form_field6  form_field7  form_field8  form_field9  form_field10  ...  \\\n",
       "4582       49014.0    3915674.0     849965.0    6083182.0     9494323.0  ...   \n",
       "50148     269966.0    9008851.0    9008851.0   38148452.0    22780618.0  ...   \n",
       "30190          0.0   37102431.0     327538.0    4947302.0    38894943.0  ...   \n",
       "54728       8558.0    5231661.0     146653.0   12316518.0    10782691.0  ...   \n",
       "38352          0.0    6003437.0     228343.0    4444714.0     6815280.0  ...   \n",
       "\n",
       "       form_field42  form_field43  form_field44  form_field45  form_field46  \\\n",
       "4582       0.200002         16.16      0.614328           0.0           0.0   \n",
       "50148      0.046805         19.19      0.616856           0.0           0.0   \n",
       "30190      0.378125         12.12      0.693056           0.0           0.0   \n",
       "54728      0.066671         20.20      0.406624           0.0           0.0   \n",
       "38352      0.366663          9.09      0.583440           0.0           0.0   \n",
       "\n",
       "       form_field47  form_field48  form_field49  form_field50  default_status  \n",
       "4582              0    334.375561      1.000000      0.126240               1  \n",
       "50148             1   4066.551346      0.000000      0.989586               0  \n",
       "30190             0    316.797746      2.691935      0.102668               0  \n",
       "54728             0    650.811063      7.000000      0.255596               0  \n",
       "38352             0    158.716495      1.822512      0.114156               1  \n",
       "\n",
       "[5 rows x 51 columns]"
      ],
      "text/html": "<div>\n<style scoped>\n    .dataframe tbody tr th:only-of-type {\n        vertical-align: middle;\n    }\n\n    .dataframe tbody tr th {\n        vertical-align: top;\n    }\n\n    .dataframe thead th {\n        text-align: right;\n    }\n</style>\n<table border=\"1\" class=\"dataframe\">\n  <thead>\n    <tr style=\"text-align: right;\">\n      <th></th>\n      <th>form_field1</th>\n      <th>form_field2</th>\n      <th>form_field3</th>\n      <th>form_field4</th>\n      <th>form_field5</th>\n      <th>form_field6</th>\n      <th>form_field7</th>\n      <th>form_field8</th>\n      <th>form_field9</th>\n      <th>form_field10</th>\n      <th>...</th>\n      <th>form_field42</th>\n      <th>form_field43</th>\n      <th>form_field44</th>\n      <th>form_field45</th>\n      <th>form_field46</th>\n      <th>form_field47</th>\n      <th>form_field48</th>\n      <th>form_field49</th>\n      <th>form_field50</th>\n      <th>default_status</th>\n    </tr>\n  </thead>\n  <tbody>\n    <tr>\n      <th>4582</th>\n      <td>3500.0</td>\n      <td>0.43040</td>\n      <td>0.0000</td>\n      <td>0.0</td>\n      <td>0.0000</td>\n      <td>49014.0</td>\n      <td>3915674.0</td>\n      <td>849965.0</td>\n      <td>6083182.0</td>\n      <td>9494323.0</td>\n      <td>...</td>\n      <td>0.200002</td>\n      <td>16.16</td>\n      <td>0.614328</td>\n      <td>0.0</td>\n      <td>0.0</td>\n      <td>0</td>\n      <td>334.375561</td>\n      <td>1.000000</td>\n      <td>0.126240</td>\n      <td>1</td>\n    </tr>\n    <tr>\n      <th>50148</th>\n      <td>3550.0</td>\n      <td>0.10010</td>\n      <td>1.2900</td>\n      <td>0.0</td>\n      <td>0.0000</td>\n      <td>269966.0</td>\n      <td>9008851.0</td>\n      <td>9008851.0</td>\n      <td>38148452.0</td>\n      <td>22780618.0</td>\n      <td>...</td>\n      <td>0.046805</td>\n      <td>19.19</td>\n      <td>0.616856</td>\n      <td>0.0</td>\n      <td>0.0</td>\n      <td>1</td>\n      <td>4066.551346</td>\n      <td>0.000000</td>\n      <td>0.989586</td>\n      <td>0</td>\n    </tr>\n    <tr>\n      <th>30190</th>\n      <td>3426.0</td>\n      <td>0.81005</td>\n      <td>0.8574</td>\n      <td>0.0</td>\n      <td>0.0000</td>\n      <td>0.0</td>\n      <td>37102431.0</td>\n      <td>327538.0</td>\n      <td>4947302.0</td>\n      <td>38894943.0</td>\n      <td>...</td>\n      <td>0.378125</td>\n      <td>12.12</td>\n      <td>0.693056</td>\n      <td>0.0</td>\n      <td>0.0</td>\n      <td>0</td>\n      <td>316.797746</td>\n      <td>2.691935</td>\n      <td>0.102668</td>\n      <td>0</td>\n    </tr>\n    <tr>\n      <th>54728</th>\n      <td>3502.0</td>\n      <td>0.71285</td>\n      <td>0.0000</td>\n      <td>0.0</td>\n      <td>0.0000</td>\n      <td>8558.0</td>\n      <td>5231661.0</td>\n      <td>146653.0</td>\n      <td>12316518.0</td>\n      <td>10782691.0</td>\n      <td>...</td>\n      <td>0.066671</td>\n      <td>20.20</td>\n      <td>0.406624</td>\n      <td>0.0</td>\n      <td>0.0</td>\n      <td>0</td>\n      <td>650.811063</td>\n      <td>7.000000</td>\n      <td>0.255596</td>\n      <td>0</td>\n    </tr>\n    <tr>\n      <th>38352</th>\n      <td>3400.0</td>\n      <td>0.41410</td>\n      <td>2.3760</td>\n      <td>0.0</td>\n      <td>2.1528</td>\n      <td>0.0</td>\n      <td>6003437.0</td>\n      <td>228343.0</td>\n      <td>4444714.0</td>\n      <td>6815280.0</td>\n      <td>...</td>\n      <td>0.366663</td>\n      <td>9.09</td>\n      <td>0.583440</td>\n      <td>0.0</td>\n      <td>0.0</td>\n      <td>0</td>\n      <td>158.716495</td>\n      <td>1.822512</td>\n      <td>0.114156</td>\n      <td>1</td>\n    </tr>\n  </tbody>\n</table>\n<p>5 rows × 51 columns</p>\n</div>"
     },
     "metadata": {},
     "execution_count": 6
    }
   ],
   "source": [
    "clean_loan_dataset = clean_data(loan_dataset)\n",
    "\n",
    "# Stratified train_test_split because dataset is imbalanced\n",
    "train, test = train_test_split(clean_loan_dataset, test_size=0.3, stratify=clean_loan_dataset.default_status, random_state=42)\n",
    "train.head()"
   ]
  },
  {
   "cell_type": "markdown",
   "metadata": {},
   "source": [
    "## AutoML Configuration\n",
    "\n",
    "TODO: Explain why you chose the automl settings and cofiguration you used below."
   ]
  },
  {
   "cell_type": "code",
   "execution_count": 7,
   "metadata": {},
   "outputs": [],
   "source": [
    "import logging\n",
    "\n",
    "from azureml.train.automl import AutoMLConfig\n",
    "from azureml.widgets import RunDetails"
   ]
  },
  {
   "cell_type": "code",
   "execution_count": 8,
   "metadata": {
    "gather": {
     "logged": 1598429217746
    },
    "jupyter": {
     "outputs_hidden": false,
     "source_hidden": false
    },
    "nteract": {
     "transient": {
      "deleting": false
     }
    }
   },
   "outputs": [],
   "source": [
    "automl_settings = {\n",
    "    \"featurization\": \"auto\",\n",
    "    \"n_cross_validations\": 4,\n",
    "    \"experiment_timeout_minutes\": 30,\n",
    "    \"enable_early_stopping\": True,\n",
    "    \"verbosity\": logging.INFO\n",
    "}\n",
    "\n",
    "automl_config = AutoMLConfig(\n",
    "    task=\"classification\",\n",
    "    training_data=train,\n",
    "    label_column_name=\"default_status\",\n",
    "    primary_metric=\"AUC_weighted\",\n",
    "    **automl_settings\n",
    ")"
   ]
  },
  {
   "cell_type": "code",
   "execution_count": 9,
   "metadata": {
    "gather": {
     "logged": 1598431107951
    },
    "jupyter": {
     "outputs_hidden": false,
     "source_hidden": false
    },
    "nteract": {
     "transient": {
      "deleting": false
     }
    },
    "tags": []
   },
   "outputs": [
    {
     "output_type": "stream",
     "name": "stdout",
     "text": [
      "Running on local machine\n",
      "Parent Run ID: AutoML_718264c0-8f6b-4bc7-bad4-a00e4ed47f2a\n",
      "\n",
      "Current status: DatasetEvaluation. Gathering dataset statistics.\n",
      "Current status: FeaturesGeneration. Generating features for the dataset.\n",
      "Current status: DatasetFeaturization. Beginning to fit featurizers and featurize the dataset.\n",
      "Current status: DatasetFeaturizationCompleted. Completed fit featurizers and featurizing the dataset.\n",
      "Current status: DatasetCrossValidationSplit. Generating individually featurized CV splits.\n",
      "\n",
      "****************************************************************************************************\n",
      "DATA GUARDRAILS: \n",
      "\n",
      "TYPE:         Class balancing detection\n",
      "STATUS:       PASSED\n",
      "DESCRIPTION:  Your inputs were analyzed, and all classes are balanced in your training data.\n",
      "              Learn more about imbalanced data: https://aka.ms/AutomatedMLImbalancedData\n",
      "\n",
      "****************************************************************************************************\n",
      "\n",
      "TYPE:         Missing feature values imputation\n",
      "STATUS:       PASSED\n",
      "DESCRIPTION:  No feature missing values were detected in the training data.\n",
      "              Learn more about missing value imputation: https://aka.ms/AutomatedMLFeaturization\n",
      "\n",
      "****************************************************************************************************\n",
      "\n",
      "TYPE:         High cardinality feature detection\n",
      "STATUS:       PASSED\n",
      "DESCRIPTION:  Your inputs were analyzed, and no high cardinality features were detected.\n",
      "              Learn more about high cardinality feature handling: https://aka.ms/AutomatedMLFeaturization\n",
      "\n",
      "****************************************************************************************************\n",
      "Current status: ModelSelection. Beginning model selection.\n",
      "\n",
      "****************************************************************************************************\n",
      "ITERATION: The iteration being evaluated.\n",
      "PIPELINE: A summary description of the pipeline being evaluated.\n",
      "DURATION: Time taken for the current iteration.\n",
      "METRIC: The result of computing score on the fitted pipeline.\n",
      "BEST: The best observed score thus far.\n",
      "****************************************************************************************************\n",
      "\n",
      " ITERATION   PIPELINE                                       DURATION      METRIC      BEST\n",
      "         0   MaxAbsScaler LightGBM                          0:00:57       0.7181    0.7181\n",
      "         1   SparseNormalizer KNN                           0:01:00       0.6976    0.7181\n",
      "         2   MinMaxScaler RandomForest                      0:01:15       0.6610    0.7181\n",
      "         3   StandardScalerWrapper SGD                      0:01:21       0.8375    0.8375\n",
      "         4   MinMaxScaler SGD                               0:00:50       0.8374    0.8375\n",
      "         5   StandardScalerWrapper RandomForest             0:01:12       0.7563    0.8375\n",
      "         6   MaxAbsScaler SGD                               0:01:28       0.7830    0.8375\n",
      "         7   MaxAbsScaler ExtremeRandomTrees                0:00:54       0.7149    0.8375\n",
      "         8   StandardScalerWrapper SGD                      0:00:58       0.7372    0.8375\n",
      "         9   MinMaxScaler ExtremeRandomTrees                0:01:26       0.7008    0.8375\n",
      "        10   StandardScalerWrapper SGD                      0:00:50       0.7709    0.8375\n",
      "        11   MinMaxScaler SGD                               0:00:56       0.8379    0.8379\n",
      "        12   RobustScaler ExtremeRandomTrees                0:01:04       0.8242    0.8379\n",
      "        13   MaxAbsScaler RandomForest                      0:00:52       0.6809    0.8379\n",
      "        14   MaxAbsScaler SGD                               0:01:00       0.8171    0.8379\n",
      "        15   StandardScalerWrapper SGD                      0:00:54       0.5161    0.8379\n",
      "        16   MinMaxScaler RandomForest                      0:01:10       0.7139    0.8379\n",
      "        17   StandardScalerWrapper SGD                      0:00:52       0.8375    0.8379\n",
      "        18   MinMaxScaler SGD                               0:00:49       0.8313    0.8379\n",
      "        19   StandardScalerWrapper SGD                      0:00:53       0.8314    0.8379\n",
      "        20   RobustScaler ExtremeRandomTrees                0:01:14       0.8213    0.8379\n",
      "        21   RobustScaler SVM                               0:01:01       0.6351    0.8379\n",
      "        22   MinMaxScaler LinearSVM                         0:00:51       0.8305    0.8379\n",
      "        23   MaxAbsScaler SGD                               0:01:19       0.8399    0.8399\n",
      "        24   RobustScaler LogisticRegression                0:01:23       0.8112    0.8399\n",
      "        25   VotingEnsemble                                 0:02:31       0.8543    0.8543\n",
      "        26   StackEnsemble                                  0:03:45       0.8349    0.8543\n",
      "Stopping criteria reached at iteration 27. Ending experiment.\n",
      "****************************************************************************************************\n",
      "Current status: BestRunExplainModel. Best run model explanations started\n",
      "Current status: ModelExplanationDataSetSetup. Model explanations data setup completed\n",
      "Current status: PickSurrogateModel. Choosing LightGBM as the surrogate model for explanations\n",
      "Current status: EngineeredFeatureExplanations. Computation of engineered features started\n",
      "Current status: EngineeredFeatureExplanations. Computation of engineered features completed\n",
      "Current status: BestRunExplainModel. Best run model explanations completed\n",
      "****************************************************************************************************\n"
     ]
    }
   ],
   "source": [
    "# TODO: Submit your experiment\n",
    "remote_run = experiment.submit(automl_config, show_output=True)"
   ]
  },
  {
   "cell_type": "markdown",
   "metadata": {},
   "source": [
    "## Run Details"
   ]
  },
  {
   "source": [
    "OPTIONAL: Write about the different models trained and their performance. Why do you think some models did better than others?\n",
    "\n",
    "TODO: In the cell below, use the `RunDetails` widget to show the different experiments."
   ],
   "cell_type": "markdown",
   "metadata": {}
  },
  {
   "source": [
    "TODO: In the cell below, get the best model from the automl experiments and display all the properties of the model."
   ],
   "cell_type": "markdown",
   "metadata": {}
  },
  {
   "cell_type": "code",
   "execution_count": 10,
   "metadata": {
    "gather": {
     "logged": 1598431121770
    },
    "jupyter": {
     "outputs_hidden": false,
     "source_hidden": false
    },
    "nteract": {
     "transient": {
      "deleting": false
     }
    }
   },
   "outputs": [
    {
     "output_type": "display_data",
     "data": {
      "text/plain": "_AutoMLWidget(widget_settings={'childWidgetDisplay': 'popup', 'send_telemetry': False, 'log_level': 'INFO', 's…",
      "application/vnd.jupyter.widget-view+json": {
       "version_major": 2,
       "version_minor": 0,
       "model_id": "2d755eddf41b48ad9f14bdbb87831e96"
      }
     },
     "metadata": {}
    },
    {
     "output_type": "display_data",
     "data": {
      "application/aml.mini.widget.v1": "{\"status\": \"Completed\", \"workbench_run_details_uri\": \"https://ml.azure.com/experiments/capstone/runs/AutoML_718264c0-8f6b-4bc7-bad4-a00e4ed47f2a?wsid=/subscriptions/d4b7be20-9813-4fe7-b9c9-4e1e2ee4f323/resourcegroups/MDM-RG/workspaces/kevlar-ml\", \"run_id\": \"AutoML_718264c0-8f6b-4bc7-bad4-a00e4ed47f2a\", \"run_properties\": {\"run_id\": \"AutoML_718264c0-8f6b-4bc7-bad4-a00e4ed47f2a\", \"created_utc\": \"2020-10-27T22:22:11.654379Z\", \"properties\": {\"num_iterations\": \"1000\", \"training_type\": \"TrainFull\", \"acquisition_function\": \"EI\", \"primary_metric\": \"AUC_weighted\", \"train_split\": \"0\", \"acquisition_parameter\": \"0\", \"num_cross_validation\": \"4\", \"target\": \"local\", \"AMLSettingsJsonString\": \"{\\\"path\\\":null,\\\"name\\\":\\\"capstone\\\",\\\"subscription_id\\\":\\\"d4b7be20-9813-4fe7-b9c9-4e1e2ee4f323\\\",\\\"resource_group\\\":\\\"MDM-RG\\\",\\\"workspace_name\\\":\\\"kevlar-ml\\\",\\\"region\\\":\\\"eastus\\\",\\\"compute_target\\\":\\\"local\\\",\\\"spark_service\\\":null,\\\"azure_service\\\":\\\"local\\\",\\\"_local_managed_run_id\\\":null,\\\"many_models\\\":false,\\\"pipeline_fetch_max_batch_size\\\":1,\\\"iterations\\\":1000,\\\"primary_metric\\\":\\\"AUC_weighted\\\",\\\"task_type\\\":\\\"classification\\\",\\\"data_script\\\":null,\\\"validation_size\\\":0.0,\\\"n_cross_validations\\\":4,\\\"y_min\\\":null,\\\"y_max\\\":null,\\\"num_classes\\\":2,\\\"featurization\\\":\\\"auto\\\",\\\"_ignore_package_version_incompatibilities\\\":false,\\\"is_timeseries\\\":false,\\\"max_cores_per_iteration\\\":1,\\\"max_concurrent_iterations\\\":1,\\\"iteration_timeout_minutes\\\":null,\\\"mem_in_mb\\\":null,\\\"enforce_time_on_windows\\\":true,\\\"experiment_timeout_minutes\\\":30,\\\"experiment_exit_score\\\":null,\\\"whitelist_models\\\":null,\\\"blacklist_algos\\\":[\\\"XGBoostClassifier\\\",\\\"TensorFlowLinearClassifier\\\",\\\"TensorFlowDNN\\\"],\\\"supported_models\\\":[\\\"ExtremeRandomTrees\\\",\\\"LogisticRegression\\\",\\\"DecisionTree\\\",\\\"MultinomialNaiveBayes\\\",\\\"AveragedPerceptronClassifier\\\",\\\"TensorFlowDNN\\\",\\\"XGBoostClassifier\\\",\\\"LinearSVM\\\",\\\"BernoulliNaiveBayes\\\",\\\"SVM\\\",\\\"GradientBoosting\\\",\\\"TensorFlowLinearClassifier\\\",\\\"LightGBM\\\",\\\"RandomForest\\\",\\\"KNN\\\",\\\"SGD\\\"],\\\"auto_blacklist\\\":true,\\\"blacklist_samples_reached\\\":false,\\\"exclude_nan_labels\\\":true,\\\"verbosity\\\":20,\\\"_debug_log\\\":\\\"automl.log\\\",\\\"show_warnings\\\":false,\\\"model_explainability\\\":true,\\\"service_url\\\":null,\\\"sdk_url\\\":null,\\\"sdk_packages\\\":null,\\\"enable_onnx_compatible_models\\\":false,\\\"enable_split_onnx_featurizer_estimator_models\\\":false,\\\"vm_type\\\":null,\\\"telemetry_verbosity\\\":20,\\\"send_telemetry\\\":true,\\\"enable_dnn\\\":false,\\\"force_text_dnn\\\":false,\\\"enable_feature_sweeping\\\":true,\\\"enable_early_stopping\\\":true,\\\"early_stopping_n_iters\\\":10,\\\"metrics\\\":null,\\\"enable_ensembling\\\":true,\\\"enable_stack_ensembling\\\":true,\\\"ensemble_iterations\\\":15,\\\"enable_tf\\\":false,\\\"enable_subsampling\\\":null,\\\"subsample_seed\\\":null,\\\"enable_nimbusml\\\":false,\\\"enable_streaming\\\":false,\\\"force_streaming\\\":false,\\\"track_child_runs\\\":true,\\\"label_column_name\\\":\\\"default_status\\\",\\\"weight_column_name\\\":null,\\\"cv_split_column_names\\\":null,\\\"enable_local_managed\\\":false,\\\"cost_mode\\\":1,\\\"lag_length\\\":0,\\\"metric_operation\\\":\\\"maximize\\\",\\\"preprocess\\\":true,\\\"scenario\\\":\\\"SDK-1.13.0\\\"}\", \"DataPrepJsonString\": null, \"EnableSubsampling\": null, \"runTemplate\": \"AutoML\", \"azureml.runsource\": \"automl\", \"display_task_type\": \"classification\", \"dependencies_versions\": \"{\\\"azureml-train-automl-client\\\": \\\"1.16.0\\\", \\\"azureml-sdk\\\": \\\"1.16.0\\\", \\\"azureml-pipeline\\\": \\\"1.16.0\\\", \\\"azureml-pipeline-steps\\\": \\\"1.16.0\\\", \\\"azureml-dataset-runtime\\\": \\\"1.16.0\\\", \\\"azureml-automl-core\\\": \\\"1.16.0\\\", \\\"azureml\\\": \\\"0.2.7\\\", \\\"azureml-widgets\\\": \\\"1.16.0\\\", \\\"azureml-train\\\": \\\"1.16.0\\\", \\\"azureml-train-restclients-hyperdrive\\\": \\\"1.16.0\\\", \\\"azureml-train-core\\\": \\\"1.16.0\\\", \\\"azureml-train-automl\\\": \\\"1.16.0\\\", \\\"azureml-train-automl-runtime\\\": \\\"1.16.0\\\", \\\"azureml-telemetry\\\": \\\"1.16.0\\\", \\\"azureml-pipeline-core\\\": \\\"1.16.0\\\", \\\"azureml-model-management-sdk\\\": \\\"1.0.1b6.post1\\\", \\\"azureml-interpret\\\": \\\"1.16.0\\\", \\\"azureml-explain-model\\\": \\\"1.16.0\\\", \\\"azureml-defaults\\\": \\\"1.16.0\\\", \\\"azureml-dataprep\\\": \\\"2.3.1\\\", \\\"azureml-dataprep-rslex\\\": \\\"1.1.1\\\", \\\"azureml-dataprep-native\\\": \\\"23.0.0\\\", \\\"azureml-core\\\": \\\"1.16.0.post1\\\", \\\"azureml-automl-runtime\\\": \\\"1.16.0\\\"}\", \"_aml_system_scenario_identification\": \"Local.Parent\", \"ClientSdkVersion\": \"1.16.0\", \"ClientType\": \"SDK\", \"environment_cpu_name\": \"AzureML-AutoML\", \"environment_cpu_version\": \"43\", \"environment_gpu_name\": \"AzureML-AutoML-GPU\", \"environment_gpu_version\": \"31\", \"root_attribution\": \"automl\", \"attribution\": \"AutoML\", \"Orchestrator\": \"AutoML\", \"_azureml.ComputeTargetType\": \"local\", \"ProblemInfoJsonString\": \"{\\\"dataset_num_categorical\\\": 0, \\\"is_sparse\\\": false, \\\"subsampling\\\": false, \\\"dataset_classes\\\": 2, \\\"dataset_features\\\": 50, \\\"dataset_samples\\\": 136, \\\"single_frequency_class_detected\\\": false}\", \"feature_skus\": \"automatedml_sdk_guardrails\", \"azureml.git.repository_uri\": \"https://github.com/theyorubayesian/nd00333-capstone.git\", \"mlflow.source.git.repoURL\": \"https://github.com/theyorubayesian/nd00333-capstone.git\", \"azureml.git.branch\": \"master\", \"mlflow.source.git.branch\": \"master\", \"azureml.git.commit\": \"bb8bb394f2d1a40e23f582b5c1b308628e329b33\", \"mlflow.source.git.commit\": \"bb8bb394f2d1a40e23f582b5c1b308628e329b33\", \"azureml.git.dirty\": \"True\"}, \"tags\": {\"model_explain_run\": \"best_run\", \"best_score\": \"0.8543287037037037\", \"best_pipeline\": \"VotingEnsemble\", \"automl_best_child_run_id\": \"AutoML_718264c0-8f6b-4bc7-bad4-a00e4ed47f2a_25\", \"model_explain_best_run_child_id\": \"AutoML_718264c0-8f6b-4bc7-bad4-a00e4ed47f2a_25\"}, \"end_time_utc\": \"2020-10-27T23:00:04.208276Z\", \"status\": \"Completed\", \"log_files\": {}, \"log_groups\": [], \"run_duration\": \"0:37:52\"}, \"child_runs\": [{\"run_id\": \"AutoML_718264c0-8f6b-4bc7-bad4-a00e4ed47f2a_0\", \"run_number\": 258, \"metric\": null, \"status\": \"Completed\", \"run_type\": null, \"training_percent\": \"100\", \"start_time\": \"2020-10-27T22:22:45.350571Z\", \"end_time\": \"2020-10-27T22:23:42.908503Z\", \"created_time\": \"2020-10-27T22:22:43.392424Z\", \"created_time_dt\": \"2020-10-27T22:22:43.392424Z\", \"duration\": \"0:00:59\", \"iteration\": \"0\", \"goal\": \"AUC_weighted_max\", \"run_name\": \"MaxAbsScaler, LightGBM\", \"run_properties\": \"copy=True\", \"primary_metric\": 0.71811177, \"best_metric\": 0.71811177}, {\"run_id\": \"AutoML_718264c0-8f6b-4bc7-bad4-a00e4ed47f2a_1\", \"run_number\": 259, \"metric\": null, \"status\": \"Completed\", \"run_type\": null, \"training_percent\": \"100\", \"start_time\": \"2020-10-27T22:23:49.320922Z\", \"end_time\": \"2020-10-27T22:24:49.428881Z\", \"created_time\": \"2020-10-27T22:23:47.220792Z\", \"created_time_dt\": \"2020-10-27T22:23:47.220792Z\", \"duration\": \"0:01:02\", \"iteration\": \"1\", \"goal\": \"AUC_weighted_max\", \"run_name\": \"SparseNormalizer, KNN\", \"run_properties\": \"<azureml.automl.runtime.shared.model_wrappers.SparseNormalizer object at 0x000001BB229A9978\", \"primary_metric\": 0.69760913, \"best_metric\": 0.71811177}, {\"run_id\": \"AutoML_718264c0-8f6b-4bc7-bad4-a00e4ed47f2a_2\", \"run_number\": 260, \"metric\": null, \"status\": \"Completed\", \"run_type\": null, \"training_percent\": \"100\", \"start_time\": \"2020-10-27T22:25:29.6757Z\", \"end_time\": \"2020-10-27T22:26:44.873032Z\", \"created_time\": \"2020-10-27T22:25:27.583397Z\", \"created_time_dt\": \"2020-10-27T22:25:27.583397Z\", \"duration\": \"0:01:17\", \"iteration\": \"2\", \"goal\": \"AUC_weighted_max\", \"run_name\": \"MinMaxScaler, RandomForest\", \"run_properties\": \"copy=True, feature_range=(0, 1\", \"primary_metric\": 0.66099809, \"best_metric\": 0.71811177}, {\"run_id\": \"AutoML_718264c0-8f6b-4bc7-bad4-a00e4ed47f2a_3\", \"run_number\": 261, \"metric\": null, \"status\": \"Completed\", \"run_type\": null, \"training_percent\": \"100\", \"start_time\": \"2020-10-27T22:26:53.148977Z\", \"end_time\": \"2020-10-27T22:28:14.623235Z\", \"created_time\": \"2020-10-27T22:26:50.413202Z\", \"created_time_dt\": \"2020-10-27T22:26:50.413202Z\", \"duration\": \"0:01:24\", \"iteration\": \"3\", \"goal\": \"AUC_weighted_max\", \"run_name\": \"StandardScalerWrapper, SGD\", \"run_properties\": \"<azureml.automl.runtime.shared.model_wrappers.StandardScalerWrapper object at 0x000001BB22BB9C88\", \"primary_metric\": 0.8375, \"best_metric\": 0.8375}, {\"run_id\": \"AutoML_718264c0-8f6b-4bc7-bad4-a00e4ed47f2a_4\", \"run_number\": 262, \"metric\": null, \"status\": \"Completed\", \"run_type\": null, \"training_percent\": \"100\", \"start_time\": \"2020-10-27T22:28:25.212893Z\", \"end_time\": \"2020-10-27T22:29:15.672735Z\", \"created_time\": \"2020-10-27T22:28:22.97081Z\", \"created_time_dt\": \"2020-10-27T22:28:22.97081Z\", \"duration\": \"0:00:52\", \"iteration\": \"4\", \"goal\": \"AUC_weighted_max\", \"run_name\": \"MinMaxScaler, SGD\", \"run_properties\": \"copy=True, feature_range=(0, 1\", \"primary_metric\": 0.83743056, \"best_metric\": 0.8375}, {\"run_id\": \"AutoML_718264c0-8f6b-4bc7-bad4-a00e4ed47f2a_5\", \"run_number\": 263, \"metric\": null, \"status\": \"Completed\", \"run_type\": null, \"training_percent\": \"100\", \"start_time\": \"2020-10-27T22:29:22.538977Z\", \"end_time\": \"2020-10-27T22:30:34.54781Z\", \"created_time\": \"2020-10-27T22:29:20.55672Z\", \"created_time_dt\": \"2020-10-27T22:29:20.55672Z\", \"duration\": \"0:01:13\", \"iteration\": \"5\", \"goal\": \"AUC_weighted_max\", \"run_name\": \"StandardScalerWrapper, RandomForest\", \"run_properties\": \"<azureml.automl.runtime.shared.model_wrappers.StandardScalerWrapper object at 0x000001BB22C2CE10\", \"primary_metric\": 0.75633267, \"best_metric\": 0.8375}, {\"run_id\": \"AutoML_718264c0-8f6b-4bc7-bad4-a00e4ed47f2a_6\", \"run_number\": 264, \"metric\": null, \"status\": \"Completed\", \"run_type\": null, \"training_percent\": \"100\", \"start_time\": \"2020-10-27T22:30:42.981795Z\", \"end_time\": \"2020-10-27T22:32:11.172412Z\", \"created_time\": \"2020-10-27T22:30:41.019598Z\", \"created_time_dt\": \"2020-10-27T22:30:41.019598Z\", \"duration\": \"0:01:30\", \"iteration\": \"6\", \"goal\": \"AUC_weighted_max\", \"run_name\": \"MaxAbsScaler, SGD\", \"run_properties\": \"copy=True\", \"primary_metric\": 0.78299603, \"best_metric\": 0.8375}, {\"run_id\": \"AutoML_718264c0-8f6b-4bc7-bad4-a00e4ed47f2a_7\", \"run_number\": 265, \"metric\": null, \"status\": \"Completed\", \"run_type\": null, \"training_percent\": \"100\", \"start_time\": \"2020-10-27T22:32:22.981642Z\", \"end_time\": \"2020-10-27T22:33:17.527063Z\", \"created_time\": \"2020-10-27T22:32:19.283165Z\", \"created_time_dt\": \"2020-10-27T22:32:19.283165Z\", \"duration\": \"0:00:58\", \"iteration\": \"7\", \"goal\": \"AUC_weighted_max\", \"run_name\": \"MaxAbsScaler, ExtremeRandomTrees\", \"run_properties\": \"copy=True\", \"primary_metric\": 0.71492725, \"best_metric\": 0.8375}, {\"run_id\": \"AutoML_718264c0-8f6b-4bc7-bad4-a00e4ed47f2a_8\", \"run_number\": 266, \"metric\": null, \"status\": \"Completed\", \"run_type\": null, \"training_percent\": \"100\", \"start_time\": \"2020-10-27T22:33:27.434206Z\", \"end_time\": \"2020-10-27T22:34:26.22661Z\", \"created_time\": \"2020-10-27T22:33:24.655343Z\", \"created_time_dt\": \"2020-10-27T22:33:24.655343Z\", \"duration\": \"0:01:01\", \"iteration\": \"8\", \"goal\": \"AUC_weighted_max\", \"run_name\": \"StandardScalerWrapper, SGD\", \"run_properties\": \"<azureml.automl.runtime.shared.model_wrappers.StandardScalerWrapper object at 0x000001BB22889D30\", \"primary_metric\": 0.73721892, \"best_metric\": 0.8375}, {\"run_id\": \"AutoML_718264c0-8f6b-4bc7-bad4-a00e4ed47f2a_9\", \"run_number\": 267, \"metric\": null, \"status\": \"Completed\", \"run_type\": null, \"training_percent\": \"100\", \"start_time\": \"2020-10-27T22:34:35.581643Z\", \"end_time\": \"2020-10-27T22:36:02.247573Z\", \"created_time\": \"2020-10-27T22:34:31.537778Z\", \"created_time_dt\": \"2020-10-27T22:34:31.537778Z\", \"duration\": \"0:01:30\", \"iteration\": \"9\", \"goal\": \"AUC_weighted_max\", \"run_name\": \"MinMaxScaler, ExtremeRandomTrees\", \"run_properties\": \"copy=True, feature_range=(0, 1\", \"primary_metric\": 0.70078704, \"best_metric\": 0.8375}, {\"run_id\": \"AutoML_718264c0-8f6b-4bc7-bad4-a00e4ed47f2a_10\", \"run_number\": 268, \"metric\": null, \"status\": \"Completed\", \"run_type\": null, \"training_percent\": \"100\", \"start_time\": \"2020-10-27T22:36:12.830466Z\", \"end_time\": \"2020-10-27T22:37:03.309067Z\", \"created_time\": \"2020-10-27T22:36:08.349049Z\", \"created_time_dt\": \"2020-10-27T22:36:08.349049Z\", \"duration\": \"0:00:54\", \"iteration\": \"10\", \"goal\": \"AUC_weighted_max\", \"run_name\": \"StandardScalerWrapper, SGD\", \"run_properties\": \"<azureml.automl.runtime.shared.model_wrappers.StandardScalerWrapper object at 0x000001BB22AEB6D8\", \"primary_metric\": 0.77087632, \"best_metric\": 0.8375}, {\"run_id\": \"AutoML_718264c0-8f6b-4bc7-bad4-a00e4ed47f2a_11\", \"run_number\": 269, \"metric\": null, \"status\": \"Completed\", \"run_type\": null, \"training_percent\": \"100\", \"start_time\": \"2020-10-27T22:37:11.279929Z\", \"end_time\": \"2020-10-27T22:38:07.815318Z\", \"created_time\": \"2020-10-27T22:37:08.73155Z\", \"created_time_dt\": \"2020-10-27T22:37:08.73155Z\", \"duration\": \"0:00:59\", \"iteration\": \"11\", \"goal\": \"AUC_weighted_max\", \"run_name\": \"MinMaxScaler, SGD\", \"run_properties\": \"copy=True, feature_range=(0, 1\", \"primary_metric\": 0.83792328, \"best_metric\": 0.83792328}, {\"run_id\": \"AutoML_718264c0-8f6b-4bc7-bad4-a00e4ed47f2a_12\", \"run_number\": 270, \"metric\": null, \"status\": \"Completed\", \"run_type\": null, \"training_percent\": \"100\", \"start_time\": \"2020-10-27T22:38:14.668488Z\", \"end_time\": \"2020-10-27T22:39:18.90976Z\", \"created_time\": \"2020-10-27T22:38:12.57457Z\", \"created_time_dt\": \"2020-10-27T22:38:12.57457Z\", \"duration\": \"0:01:06\", \"iteration\": \"12\", \"goal\": \"AUC_weighted_max\", \"run_name\": \"RobustScaler, ExtremeRandomTrees\", \"run_properties\": \"copy=True, quantile_range=[10, 90], with_centering=False,\\n             with_scaling=False\", \"primary_metric\": 0.82423611, \"best_metric\": 0.83792328}, {\"run_id\": \"AutoML_718264c0-8f6b-4bc7-bad4-a00e4ed47f2a_13\", \"run_number\": 271, \"metric\": null, \"status\": \"Completed\", \"run_type\": null, \"training_percent\": \"100\", \"start_time\": \"2020-10-27T22:39:25.843697Z\", \"end_time\": \"2020-10-27T22:40:18.581921Z\", \"created_time\": \"2020-10-27T22:39:23.78529Z\", \"created_time_dt\": \"2020-10-27T22:39:23.78529Z\", \"duration\": \"0:00:54\", \"iteration\": \"13\", \"goal\": \"AUC_weighted_max\", \"run_name\": \"MaxAbsScaler, RandomForest\", \"run_properties\": \"copy=True\", \"primary_metric\": 0.68093624, \"best_metric\": 0.83792328}, {\"run_id\": \"AutoML_718264c0-8f6b-4bc7-bad4-a00e4ed47f2a_14\", \"run_number\": 272, \"metric\": null, \"status\": \"Completed\", \"run_type\": null, \"training_percent\": \"100\", \"start_time\": \"2020-10-27T22:40:25.663382Z\", \"end_time\": \"2020-10-27T22:41:25.739959Z\", \"created_time\": \"2020-10-27T22:40:23.739517Z\", \"created_time_dt\": \"2020-10-27T22:40:23.739517Z\", \"duration\": \"0:01:02\", \"iteration\": \"14\", \"goal\": \"AUC_weighted_max\", \"run_name\": \"MaxAbsScaler, SGD\", \"run_properties\": \"copy=True\", \"primary_metric\": 0.81712963, \"best_metric\": 0.83792328}, {\"run_id\": \"AutoML_718264c0-8f6b-4bc7-bad4-a00e4ed47f2a_15\", \"run_number\": 273, \"metric\": null, \"status\": \"Completed\", \"run_type\": null, \"training_percent\": \"100\", \"start_time\": \"2020-10-27T22:41:35.213773Z\", \"end_time\": \"2020-10-27T22:42:29.416835Z\", \"created_time\": \"2020-10-27T22:41:33.304945Z\", \"created_time_dt\": \"2020-10-27T22:41:33.304945Z\", \"duration\": \"0:00:56\", \"iteration\": \"15\", \"goal\": \"AUC_weighted_max\", \"run_name\": \"StandardScalerWrapper, SGD\", \"run_properties\": \"<azureml.automl.runtime.shared.model_wrappers.StandardScalerWrapper object at 0x000001BB22B4E7B8\", \"primary_metric\": 0.51610119, \"best_metric\": 0.83792328}, {\"run_id\": \"AutoML_718264c0-8f6b-4bc7-bad4-a00e4ed47f2a_16\", \"run_number\": 274, \"metric\": null, \"status\": \"Completed\", \"run_type\": null, \"training_percent\": \"100\", \"start_time\": \"2020-10-27T22:42:36.098089Z\", \"end_time\": \"2020-10-27T22:43:46.269871Z\", \"created_time\": \"2020-10-27T22:42:34.153945Z\", \"created_time_dt\": \"2020-10-27T22:42:34.153945Z\", \"duration\": \"0:01:12\", \"iteration\": \"16\", \"goal\": \"AUC_weighted_max\", \"run_name\": \"MinMaxScaler, RandomForest\", \"run_properties\": \"copy=True, feature_range=(0, 1\", \"primary_metric\": 0.71391204, \"best_metric\": 0.83792328}, {\"run_id\": \"AutoML_718264c0-8f6b-4bc7-bad4-a00e4ed47f2a_17\", \"run_number\": 275, \"metric\": null, \"status\": \"Completed\", \"run_type\": null, \"training_percent\": \"100\", \"start_time\": \"2020-10-27T22:43:57.299423Z\", \"end_time\": \"2020-10-27T22:44:49.564816Z\", \"created_time\": \"2020-10-27T22:43:54.572392Z\", \"created_time_dt\": \"2020-10-27T22:43:54.572392Z\", \"duration\": \"0:00:54\", \"iteration\": \"17\", \"goal\": \"AUC_weighted_max\", \"run_name\": \"StandardScalerWrapper, SGD\", \"run_properties\": \"<azureml.automl.runtime.shared.model_wrappers.StandardScalerWrapper object at 0x000001BB22B75BE0\", \"primary_metric\": 0.8375, \"best_metric\": 0.83792328}, {\"run_id\": \"AutoML_718264c0-8f6b-4bc7-bad4-a00e4ed47f2a_18\", \"run_number\": 276, \"metric\": null, \"status\": \"Completed\", \"run_type\": null, \"training_percent\": \"100\", \"start_time\": \"2020-10-27T22:44:58.3648Z\", \"end_time\": \"2020-10-27T22:45:48.327395Z\", \"created_time\": \"2020-10-27T22:44:56.255905Z\", \"created_time_dt\": \"2020-10-27T22:44:56.255905Z\", \"duration\": \"0:00:52\", \"iteration\": \"18\", \"goal\": \"AUC_weighted_max\", \"run_name\": \"MinMaxScaler, SGD\", \"run_properties\": \"copy=True, feature_range=(0, 1\", \"primary_metric\": 0.83125331, \"best_metric\": 0.83792328}, {\"run_id\": \"AutoML_718264c0-8f6b-4bc7-bad4-a00e4ed47f2a_19\", \"run_number\": 277, \"metric\": null, \"status\": \"Completed\", \"run_type\": null, \"training_percent\": \"100\", \"start_time\": \"2020-10-27T22:45:58.600177Z\", \"end_time\": \"2020-10-27T22:46:51.978714Z\", \"created_time\": \"2020-10-27T22:45:55.705755Z\", \"created_time_dt\": \"2020-10-27T22:45:55.705755Z\", \"duration\": \"0:00:56\", \"iteration\": \"19\", \"goal\": \"AUC_weighted_max\", \"run_name\": \"StandardScalerWrapper, SGD\", \"run_properties\": \"<azureml.automl.runtime.shared.model_wrappers.StandardScalerWrapper object at 0x000001BB22C66160\", \"primary_metric\": 0.83143519, \"best_metric\": 0.83792328}, {\"run_id\": \"AutoML_718264c0-8f6b-4bc7-bad4-a00e4ed47f2a_20\", \"run_number\": 278, \"metric\": null, \"status\": \"Completed\", \"run_type\": null, \"training_percent\": \"100\", \"start_time\": \"2020-10-27T22:47:00.870296Z\", \"end_time\": \"2020-10-27T22:48:15.374798Z\", \"created_time\": \"2020-10-27T22:46:58.944165Z\", \"created_time_dt\": \"2020-10-27T22:46:58.944165Z\", \"duration\": \"0:01:16\", \"iteration\": \"20\", \"goal\": \"AUC_weighted_max\", \"run_name\": \"RobustScaler, ExtremeRandomTrees\", \"run_properties\": \"copy=True, quantile_range=[10, 90], with_centering=False,\\n             with_scaling=False\", \"primary_metric\": 0.82125331, \"best_metric\": 0.83792328}, {\"run_id\": \"AutoML_718264c0-8f6b-4bc7-bad4-a00e4ed47f2a_21\", \"run_number\": 279, \"metric\": null, \"status\": \"Completed\", \"run_type\": null, \"training_percent\": \"100\", \"start_time\": \"2020-10-27T22:48:23.829006Z\", \"end_time\": \"2020-10-27T22:49:24.927431Z\", \"created_time\": \"2020-10-27T22:48:21.866843Z\", \"created_time_dt\": \"2020-10-27T22:48:21.866843Z\", \"duration\": \"0:01:03\", \"iteration\": \"21\", \"goal\": \"AUC_weighted_max\", \"run_name\": \"RobustScaler, SVM\", \"run_properties\": \"copy=True, quantile_range=[10, 90], with_centering=True,\\n             with_scaling=False\", \"primary_metric\": 0.63511574, \"best_metric\": 0.83792328}, {\"run_id\": \"AutoML_718264c0-8f6b-4bc7-bad4-a00e4ed47f2a_22\", \"run_number\": 280, \"metric\": null, \"status\": \"Completed\", \"run_type\": null, \"training_percent\": \"100\", \"start_time\": \"2020-10-27T22:49:31.720274Z\", \"end_time\": \"2020-10-27T22:50:22.7496Z\", \"created_time\": \"2020-10-27T22:49:29.751569Z\", \"created_time_dt\": \"2020-10-27T22:49:29.751569Z\", \"duration\": \"0:00:52\", \"iteration\": \"22\", \"goal\": \"AUC_weighted_max\", \"run_name\": \"MinMaxScaler, LinearSVM\", \"run_properties\": \"copy=True, feature_range=(0, 1\", \"primary_metric\": 0.8304795, \"best_metric\": 0.83792328}, {\"run_id\": \"AutoML_718264c0-8f6b-4bc7-bad4-a00e4ed47f2a_23\", \"run_number\": 281, \"metric\": null, \"status\": \"Completed\", \"run_type\": null, \"training_percent\": \"100\", \"start_time\": \"2020-10-27T22:50:29.615356Z\", \"end_time\": \"2020-10-27T22:51:48.751715Z\", \"created_time\": \"2020-10-27T22:50:27.535231Z\", \"created_time_dt\": \"2020-10-27T22:50:27.535231Z\", \"duration\": \"0:01:21\", \"iteration\": \"23\", \"goal\": \"AUC_weighted_max\", \"run_name\": \"MaxAbsScaler, SGD\", \"run_properties\": \"copy=True\", \"primary_metric\": 0.83986442, \"best_metric\": 0.83986442}, {\"run_id\": \"AutoML_718264c0-8f6b-4bc7-bad4-a00e4ed47f2a_24\", \"run_number\": 282, \"metric\": null, \"status\": \"Completed\", \"run_type\": null, \"training_percent\": \"100\", \"start_time\": \"2020-10-27T22:51:57.933884Z\", \"end_time\": \"2020-10-27T22:53:21.768069Z\", \"created_time\": \"2020-10-27T22:51:54.645792Z\", \"created_time_dt\": \"2020-10-27T22:51:54.645792Z\", \"duration\": \"0:01:27\", \"iteration\": \"24\", \"goal\": \"AUC_weighted_max\", \"run_name\": \"RobustScaler, LogisticRegression\", \"run_properties\": \"copy=True, quantile_range=[10, 90], with_centering=True,\\n             with_scaling=True\", \"primary_metric\": 0.81121693, \"best_metric\": 0.83986442}, {\"run_id\": \"AutoML_718264c0-8f6b-4bc7-bad4-a00e4ed47f2a_25\", \"run_number\": 283, \"metric\": null, \"status\": \"Completed\", \"run_type\": null, \"training_percent\": \"100\", \"start_time\": \"2020-10-27T22:53:31.866588Z\", \"end_time\": \"2020-10-27T22:56:03.755223Z\", \"created_time\": \"2020-10-27T22:53:29.969815Z\", \"created_time_dt\": \"2020-10-27T22:53:29.969815Z\", \"duration\": \"0:02:33\", \"iteration\": \"25\", \"goal\": \"AUC_weighted_max\", \"run_name\": \"VotingEnsemble\", \"run_properties\": \"classification_labels=None,\\n                              estimators=[('23',\\n                                           Pipeline(memory=None,\\n                                                    steps=[('maxabsscaler',\\n                                                            MaxAbsScaler(copy=True\", \"primary_metric\": 0.8543287, \"best_metric\": 0.8543287}, {\"run_id\": \"AutoML_718264c0-8f6b-4bc7-bad4-a00e4ed47f2a_26\", \"run_number\": 284, \"metric\": null, \"status\": \"Completed\", \"run_type\": null, \"training_percent\": \"100\", \"start_time\": \"2020-10-27T22:56:10.511968Z\", \"end_time\": \"2020-10-27T22:59:56.042009Z\", \"created_time\": \"2020-10-27T22:56:08.331677Z\", \"created_time_dt\": \"2020-10-27T22:56:08.331677Z\", \"duration\": \"0:03:47\", \"iteration\": \"26\", \"goal\": \"AUC_weighted_max\", \"run_name\": \"StackEnsemble\", \"run_properties\": \"base_learners=[('23',\\n                                        Pipeline(memory=None,\\n                                                 steps=[('maxabsscaler',\\n                                                         MaxAbsScaler(copy=True\", \"primary_metric\": 0.83491071, \"best_metric\": 0.8543287}], \"children_metrics\": {\"categories\": [0], \"series\": {\"f1_score_macro\": [{\"categories\": [\"0\", \"1\", \"2\", \"3\", \"4\", \"5\", \"6\", \"7\", \"8\", \"9\", \"10\", \"11\", \"12\", \"13\", \"14\", \"15\", \"16\", \"17\", \"18\", \"19\", \"20\", \"21\", \"22\", \"23\", \"24\", \"25\", \"26\"], \"mode\": \"markers\", \"name\": \"f1_score_macro\", \"stepped\": false, \"type\": \"scatter\", \"data\": [0.5199529076665257, 0.5088526315624131, 0.6341820898399846, 0.622595136738906, 0.6555723296391877, 0.6294341075591076, 0.6700282432976237, 0.6274271243486734, 0.6659792510121458, 0.6607227760653778, 0.6703303869848257, 0.583167765151156, 0.6338143774464529, 0.5598136745119504, 0.5849831522865698, 0.4986211998923863, 0.5816566474461211, 0.5856524437447429, 0.6663471589923924, 0.6446602730073037, 0.6078582698173618, 0.42812087178212277, 0.6561854022834059, 0.6792343379479565, 0.3661295219160581, 0.6903577295355776, 0.4751398852183805]}, {\"categories\": [\"0\", \"1\", \"2\", \"3\", \"4\", \"5\", \"6\", \"7\", \"8\", \"9\", \"10\", \"11\", \"12\", \"13\", \"14\", \"15\", \"16\", \"17\", \"18\", \"19\", \"20\", \"21\", \"22\", \"23\", \"24\", \"25\", \"26\"], \"mode\": \"lines\", \"name\": \"f1_score_macro_max\", \"stepped\": true, \"type\": \"scatter\", \"data\": [0.5199529076665257, 0.5199529076665257, 0.6341820898399846, 0.6341820898399846, 0.6555723296391877, 0.6555723296391877, 0.6700282432976237, 0.6700282432976237, 0.6700282432976237, 0.6700282432976237, 0.6703303869848257, 0.6703303869848257, 0.6703303869848257, 0.6703303869848257, 0.6703303869848257, 0.6703303869848257, 0.6703303869848257, 0.6703303869848257, 0.6703303869848257, 0.6703303869848257, 0.6703303869848257, 0.6703303869848257, 0.6703303869848257, 0.6792343379479565, 0.6792343379479565, 0.6903577295355776, 0.6903577295355776]}], \"average_precision_score_macro\": [{\"categories\": [\"0\", \"1\", \"2\", \"3\", \"4\", \"5\", \"6\", \"7\", \"8\", \"9\", \"10\", \"11\", \"12\", \"13\", \"14\", \"15\", \"16\", \"17\", \"18\", \"19\", \"20\", \"21\", \"22\", \"23\", \"24\", \"25\", \"26\"], \"mode\": \"markers\", \"name\": \"average_precision_score_macro\", \"stepped\": false, \"type\": \"scatter\", \"data\": [0.6872671326866744, 0.6554373382852643, 0.6691634916272617, 0.8233218465092327, 0.8210501602508445, 0.7223223304666864, 0.7664693197229039, 0.7206204887694097, 0.7294483486815696, 0.7114927527457255, 0.7514645132510342, 0.8156630360147599, 0.7878707676297836, 0.6534007447514479, 0.800303361859533, 0.5991539193044947, 0.688747417886862, 0.8233218465092327, 0.8111618290745519, 0.8212512807578795, 0.7887593585725959, 0.5952664382675044, 0.810364816254304, 0.822137646667938, 0.7687580243669595, 0.8340335604633247, 0.8151089772695226]}, {\"categories\": [\"0\", \"1\", \"2\", \"3\", \"4\", \"5\", \"6\", \"7\", \"8\", \"9\", \"10\", \"11\", \"12\", \"13\", \"14\", \"15\", \"16\", \"17\", \"18\", \"19\", \"20\", \"21\", \"22\", \"23\", \"24\", \"25\", \"26\"], \"mode\": \"lines\", \"name\": \"average_precision_score_macro_max\", \"stepped\": true, \"type\": \"scatter\", \"data\": [0.6872671326866744, 0.6872671326866744, 0.6872671326866744, 0.8233218465092327, 0.8233218465092327, 0.8233218465092327, 0.8233218465092327, 0.8233218465092327, 0.8233218465092327, 0.8233218465092327, 0.8233218465092327, 0.8233218465092327, 0.8233218465092327, 0.8233218465092327, 0.8233218465092327, 0.8233218465092327, 0.8233218465092327, 0.8233218465092327, 0.8233218465092327, 0.8233218465092327, 0.8233218465092327, 0.8233218465092327, 0.8233218465092327, 0.8233218465092327, 0.8233218465092327, 0.8340335604633247, 0.8340335604633247]}], \"log_loss\": [{\"categories\": [\"0\", \"1\", \"2\", \"3\", \"4\", \"5\", \"6\", \"7\", \"8\", \"9\", \"10\", \"11\", \"12\", \"13\", \"14\", \"15\", \"16\", \"17\", \"18\", \"19\", \"20\", \"21\", \"22\", \"23\", \"24\", \"25\", \"26\"], \"mode\": \"markers\", \"name\": \"log_loss\", \"stepped\": false, \"type\": \"scatter\", \"data\": [0.7479940747454837, 0.7543529710713976, 0.6025771860174199, 0.5922365111307408, 0.5244627041204775, 1.1987752307798223, 1.1648494848257658, 0.530417227926883, 0.7261883019426899, 0.5487555709691052, 0.5125646305854675, 0.4731875956960912, 0.5539828783371671, 0.8026027514334301, 0.4861426246866716, 0.6020729313269638, 0.7348905312184616, 0.483318298728575, 0.5213791358894265, 0.5366437709400937, 0.4622182876896521, 0.5582249565794449, 0.4432854652795102, 0.5800198999108832, 0.6628170836090456, 0.5014060964310225, 0.5261865018183803]}, {\"categories\": [\"0\", \"1\", \"2\", \"3\", \"4\", \"5\", \"6\", \"7\", \"8\", \"9\", \"10\", \"11\", \"12\", \"13\", \"14\", \"15\", \"16\", \"17\", \"18\", \"19\", \"20\", \"21\", \"22\", \"23\", \"24\", \"25\", \"26\"], \"mode\": \"lines\", \"name\": \"log_loss_min\", \"stepped\": true, \"type\": \"scatter\", \"data\": [0.7479940747454837, 0.7479940747454837, 0.6025771860174199, 0.5922365111307408, 0.5244627041204775, 0.5244627041204775, 0.5244627041204775, 0.5244627041204775, 0.5244627041204775, 0.5244627041204775, 0.5125646305854675, 0.4731875956960912, 0.4731875956960912, 0.4731875956960912, 0.4731875956960912, 0.4731875956960912, 0.4731875956960912, 0.4731875956960912, 0.4731875956960912, 0.4731875956960912, 0.4622182876896521, 0.4622182876896521, 0.4432854652795102, 0.4432854652795102, 0.4432854652795102, 0.4432854652795102, 0.4432854652795102]}], \"weighted_accuracy\": [{\"categories\": [\"0\", \"1\", \"2\", \"3\", \"4\", \"5\", \"6\", \"7\", \"8\", \"9\", \"10\", \"11\", \"12\", \"13\", \"14\", \"15\", \"16\", \"17\", \"18\", \"19\", \"20\", \"21\", \"22\", \"23\", \"24\", \"25\", \"26\"], \"mode\": \"markers\", \"name\": \"weighted_accuracy\", \"stepped\": false, \"type\": \"scatter\", \"data\": [0.7252003936557113, 0.8025363062008338, 0.8456964272579153, 0.6225985629157739, 0.745055727314843, 0.8776131227993034, 0.8787363875312395, 0.8693132760274427, 0.8422411184969016, 0.8811763374109569, 0.8497799524298568, 0.8974922697547804, 0.7238056702728145, 0.8119824661314705, 0.8841539313021359, 0.8864615587575125, 0.8334091218466424, 0.8785270125838917, 0.7334514773034347, 0.7555227187142195, 0.8819670993644774, 0.8939682897168832, 0.8944046154509759, 0.7274510975834304, 0.26158750367837597, 0.8280362152136811, 0.8899905589248357]}, {\"categories\": [\"0\", \"1\", \"2\", \"3\", \"4\", \"5\", \"6\", \"7\", \"8\", \"9\", \"10\", \"11\", \"12\", \"13\", \"14\", \"15\", \"16\", \"17\", \"18\", \"19\", \"20\", \"21\", \"22\", \"23\", \"24\", \"25\", \"26\"], \"mode\": \"lines\", \"name\": \"weighted_accuracy_max\", \"stepped\": true, \"type\": \"scatter\", \"data\": [0.7252003936557113, 0.8025363062008338, 0.8456964272579153, 0.8456964272579153, 0.8456964272579153, 0.8776131227993034, 0.8787363875312395, 0.8787363875312395, 0.8787363875312395, 0.8811763374109569, 0.8811763374109569, 0.8974922697547804, 0.8974922697547804, 0.8974922697547804, 0.8974922697547804, 0.8974922697547804, 0.8974922697547804, 0.8974922697547804, 0.8974922697547804, 0.8974922697547804, 0.8974922697547804, 0.8974922697547804, 0.8974922697547804, 0.8974922697547804, 0.8974922697547804, 0.8974922697547804, 0.8974922697547804]}], \"precision_score_weighted\": [{\"categories\": [\"0\", \"1\", \"2\", \"3\", \"4\", \"5\", \"6\", \"7\", \"8\", \"9\", \"10\", \"11\", \"12\", \"13\", \"14\", \"15\", \"16\", \"17\", \"18\", \"19\", \"20\", \"21\", \"22\", \"23\", \"24\", \"25\", \"26\"], \"mode\": \"markers\", \"name\": \"precision_score_weighted\", \"stepped\": false, \"type\": \"scatter\", \"data\": [0.6701426024955437, 0.6505960559974824, 0.7408972408592085, 0.8076615679716703, 0.7815636671335201, 0.7687063095032735, 0.8058802308802309, 0.7516963682024533, 0.7924414974323062, 0.7794600209382974, 0.8030884290475083, 0.736913299475388, 0.7651246773219093, 0.6922696808251837, 0.7355794385426774, 0.6831882569204153, 0.714878258995906, 0.7491976152091853, 0.8000803262481464, 0.7661058743984409, 0.7598755732131564, 0.57347043095313, 0.7445429642445214, 0.8052323139107195, 0.7766603415559772, 0.78290862903866, 0.6085640138408305]}, {\"categories\": [\"0\", \"1\", \"2\", \"3\", \"4\", \"5\", \"6\", \"7\", \"8\", \"9\", \"10\", \"11\", \"12\", \"13\", \"14\", \"15\", \"16\", \"17\", \"18\", \"19\", \"20\", \"21\", \"22\", \"23\", \"24\", \"25\", \"26\"], \"mode\": \"lines\", \"name\": \"precision_score_weighted_max\", \"stepped\": true, \"type\": \"scatter\", \"data\": [0.6701426024955437, 0.6701426024955437, 0.7408972408592085, 0.8076615679716703, 0.8076615679716703, 0.8076615679716703, 0.8076615679716703, 0.8076615679716703, 0.8076615679716703, 0.8076615679716703, 0.8076615679716703, 0.8076615679716703, 0.8076615679716703, 0.8076615679716703, 0.8076615679716703, 0.8076615679716703, 0.8076615679716703, 0.8076615679716703, 0.8076615679716703, 0.8076615679716703, 0.8076615679716703, 0.8076615679716703, 0.8076615679716703, 0.8076615679716703, 0.8076615679716703, 0.8076615679716703, 0.8076615679716703]}], \"AUC_weighted\": [{\"categories\": [\"0\", \"1\", \"2\", \"3\", \"4\", \"5\", \"6\", \"7\", \"8\", \"9\", \"10\", \"11\", \"12\", \"13\", \"14\", \"15\", \"16\", \"17\", \"18\", \"19\", \"20\", \"21\", \"22\", \"23\", \"24\", \"25\", \"26\"], \"mode\": \"markers\", \"name\": \"AUC_weighted\", \"stepped\": false, \"type\": \"scatter\", \"data\": [0.7181117724867725, 0.6976091269841269, 0.6609980936819172, 0.8375, 0.8374305555555556, 0.756332671957672, 0.7829960317460317, 0.7149272486772487, 0.7372189153439154, 0.700787037037037, 0.7708763227513228, 0.8379232804232803, 0.8242361111111112, 0.6809362356053533, 0.8171296296296295, 0.5161011904761905, 0.713912037037037, 0.8375, 0.8312533068783069, 0.8314351851851851, 0.8212533068783068, 0.6351157407407408, 0.8304794973544974, 0.8398644179894179, 0.8112169312169313, 0.8543287037037037, 0.8349107142857143]}, {\"categories\": [\"0\", \"1\", \"2\", \"3\", \"4\", \"5\", \"6\", \"7\", \"8\", \"9\", \"10\", \"11\", \"12\", \"13\", \"14\", \"15\", \"16\", \"17\", \"18\", \"19\", \"20\", \"21\", \"22\", \"23\", \"24\", \"25\", \"26\"], \"mode\": \"lines\", \"name\": \"AUC_weighted_max\", \"stepped\": true, \"type\": \"scatter\", \"data\": [0.7181117724867725, 0.7181117724867725, 0.7181117724867725, 0.8375, 0.8375, 0.8375, 0.8375, 0.8375, 0.8375, 0.8375, 0.8375, 0.8379232804232803, 0.8379232804232803, 0.8379232804232803, 0.8379232804232803, 0.8379232804232803, 0.8379232804232803, 0.8379232804232803, 0.8379232804232803, 0.8379232804232803, 0.8379232804232803, 0.8379232804232803, 0.8379232804232803, 0.8398644179894179, 0.8398644179894179, 0.8543287037037037, 0.8543287037037037]}], \"recall_score_weighted\": [{\"categories\": [\"0\", \"1\", \"2\", \"3\", \"4\", \"5\", \"6\", \"7\", \"8\", \"9\", \"10\", \"11\", \"12\", \"13\", \"14\", \"15\", \"16\", \"17\", \"18\", \"19\", \"20\", \"21\", \"22\", \"23\", \"24\", \"25\", \"26\"], \"mode\": \"markers\", \"name\": \"recall_score_weighted\", \"stepped\": false, \"type\": \"scatter\", \"data\": [0.6544117647058824, 0.6985294117647058, 0.7647058823529412, 0.6544117647058822, 0.7279411764705883, 0.7867647058823529, 0.801470588235294, 0.7794117647058824, 0.7794117647058822, 0.7941176470588235, 0.7867647058823529, 0.7867647058823529, 0.7058823529411765, 0.7205882352941178, 0.7794117647058822, 0.7573529411764706, 0.7426470588235294, 0.7794117647058824, 0.7279411764705883, 0.7279411764705882, 0.7794117647058824, 0.75, 0.8088235294117647, 0.7279411764705883, 0.375, 0.7794117647058824, 0.7573529411764706]}, {\"categories\": [\"0\", \"1\", \"2\", \"3\", \"4\", \"5\", \"6\", \"7\", \"8\", \"9\", \"10\", \"11\", \"12\", \"13\", \"14\", \"15\", \"16\", \"17\", \"18\", \"19\", \"20\", \"21\", \"22\", \"23\", \"24\", \"25\", \"26\"], \"mode\": \"lines\", \"name\": \"recall_score_weighted_max\", \"stepped\": true, \"type\": \"scatter\", \"data\": [0.6544117647058824, 0.6985294117647058, 0.7647058823529412, 0.7647058823529412, 0.7647058823529412, 0.7867647058823529, 0.801470588235294, 0.801470588235294, 0.801470588235294, 0.801470588235294, 0.801470588235294, 0.801470588235294, 0.801470588235294, 0.801470588235294, 0.801470588235294, 0.801470588235294, 0.801470588235294, 0.801470588235294, 0.801470588235294, 0.801470588235294, 0.801470588235294, 0.801470588235294, 0.8088235294117647, 0.8088235294117647, 0.8088235294117647, 0.8088235294117647, 0.8088235294117647]}], \"recall_score_macro\": [{\"categories\": [\"0\", \"1\", \"2\", \"3\", \"4\", \"5\", \"6\", \"7\", \"8\", \"9\", \"10\", \"11\", \"12\", \"13\", \"14\", \"15\", \"16\", \"17\", \"18\", \"19\", \"20\", \"21\", \"22\", \"23\", \"24\", \"25\", \"26\"], \"mode\": \"markers\", \"name\": \"recall_score_macro\", \"stepped\": false, \"type\": \"scatter\", \"data\": [0.5333928571428571, 0.5167195767195767, 0.6224900793650794, 0.7093551587301588, 0.6975992063492064, 0.6282771164021164, 0.6666666666666667, 0.6245965608465608, 0.6699074074074074, 0.6431150793650793, 0.6779265873015873, 0.5903306878306878, 0.6752612433862435, 0.5589980158730159, 0.5876587301587302, 0.528968253968254, 0.5817063492063492, 0.5973214285714286, 0.7181183862433862, 0.6804695767195768, 0.5975628306878307, 0.4947916666666667, 0.6692328042328042, 0.7287665343915345, 0.5744345238095239, 0.6927281746031746, 0.5264550264550265]}, {\"categories\": [\"0\", \"1\", \"2\", \"3\", \"4\", \"5\", \"6\", \"7\", \"8\", \"9\", \"10\", \"11\", \"12\", \"13\", \"14\", \"15\", \"16\", \"17\", \"18\", \"19\", \"20\", \"21\", \"22\", \"23\", \"24\", \"25\", \"26\"], \"mode\": \"lines\", \"name\": \"recall_score_macro_max\", \"stepped\": true, \"type\": \"scatter\", \"data\": [0.5333928571428571, 0.5333928571428571, 0.6224900793650794, 0.7093551587301588, 0.7093551587301588, 0.7093551587301588, 0.7093551587301588, 0.7093551587301588, 0.7093551587301588, 0.7093551587301588, 0.7093551587301588, 0.7093551587301588, 0.7093551587301588, 0.7093551587301588, 0.7093551587301588, 0.7093551587301588, 0.7093551587301588, 0.7093551587301588, 0.7181183862433862, 0.7181183862433862, 0.7181183862433862, 0.7181183862433862, 0.7181183862433862, 0.7287665343915345, 0.7287665343915345, 0.7287665343915345, 0.7287665343915345]}], \"f1_score_micro\": [{\"categories\": [\"0\", \"1\", \"2\", \"3\", \"4\", \"5\", \"6\", \"7\", \"8\", \"9\", \"10\", \"11\", \"12\", \"13\", \"14\", \"15\", \"16\", \"17\", \"18\", \"19\", \"20\", \"21\", \"22\", \"23\", \"24\", \"25\", \"26\"], \"mode\": \"markers\", \"name\": \"f1_score_micro\", \"stepped\": false, \"type\": \"scatter\", \"data\": [0.6544117647058824, 0.6985294117647058, 0.7647058823529412, 0.6544117647058822, 0.7279411764705883, 0.7867647058823529, 0.8014705882352942, 0.7794117647058825, 0.7794117647058825, 0.7941176470588236, 0.786764705882353, 0.7867647058823529, 0.7058823529411765, 0.7205882352941178, 0.7794117647058824, 0.7573529411764707, 0.7426470588235294, 0.7794117647058824, 0.7279411764705883, 0.7279411764705882, 0.7794117647058824, 0.75, 0.8088235294117647, 0.7279411764705883, 0.375, 0.7794117647058824, 0.7573529411764706]}, {\"categories\": [\"0\", \"1\", \"2\", \"3\", \"4\", \"5\", \"6\", \"7\", \"8\", \"9\", \"10\", \"11\", \"12\", \"13\", \"14\", \"15\", \"16\", \"17\", \"18\", \"19\", \"20\", \"21\", \"22\", \"23\", \"24\", \"25\", \"26\"], \"mode\": \"lines\", \"name\": \"f1_score_micro_max\", \"stepped\": true, \"type\": \"scatter\", \"data\": [0.6544117647058824, 0.6985294117647058, 0.7647058823529412, 0.7647058823529412, 0.7647058823529412, 0.7867647058823529, 0.8014705882352942, 0.8014705882352942, 0.8014705882352942, 0.8014705882352942, 0.8014705882352942, 0.8014705882352942, 0.8014705882352942, 0.8014705882352942, 0.8014705882352942, 0.8014705882352942, 0.8014705882352942, 0.8014705882352942, 0.8014705882352942, 0.8014705882352942, 0.8014705882352942, 0.8014705882352942, 0.8088235294117647, 0.8088235294117647, 0.8088235294117647, 0.8088235294117647, 0.8088235294117647]}], \"recall_score_micro\": [{\"categories\": [\"0\", \"1\", \"2\", \"3\", \"4\", \"5\", \"6\", \"7\", \"8\", \"9\", \"10\", \"11\", \"12\", \"13\", \"14\", \"15\", \"16\", \"17\", \"18\", \"19\", \"20\", \"21\", \"22\", \"23\", \"24\", \"25\", \"26\"], \"mode\": \"markers\", \"name\": \"recall_score_micro\", \"stepped\": false, \"type\": \"scatter\", \"data\": [0.6544117647058824, 0.6985294117647058, 0.7647058823529412, 0.6544117647058822, 0.7279411764705883, 0.7867647058823529, 0.801470588235294, 0.7794117647058824, 0.7794117647058822, 0.7941176470588235, 0.7867647058823529, 0.7867647058823529, 0.7058823529411765, 0.7205882352941178, 0.7794117647058822, 0.7573529411764706, 0.7426470588235294, 0.7794117647058824, 0.7279411764705883, 0.7279411764705882, 0.7794117647058824, 0.75, 0.8088235294117647, 0.7279411764705883, 0.375, 0.7794117647058824, 0.7573529411764706]}, {\"categories\": [\"0\", \"1\", \"2\", \"3\", \"4\", \"5\", \"6\", \"7\", \"8\", \"9\", \"10\", \"11\", \"12\", \"13\", \"14\", \"15\", \"16\", \"17\", \"18\", \"19\", \"20\", \"21\", \"22\", \"23\", \"24\", \"25\", \"26\"], \"mode\": \"lines\", \"name\": \"recall_score_micro_max\", \"stepped\": true, \"type\": \"scatter\", \"data\": [0.6544117647058824, 0.6985294117647058, 0.7647058823529412, 0.7647058823529412, 0.7647058823529412, 0.7867647058823529, 0.801470588235294, 0.801470588235294, 0.801470588235294, 0.801470588235294, 0.801470588235294, 0.801470588235294, 0.801470588235294, 0.801470588235294, 0.801470588235294, 0.801470588235294, 0.801470588235294, 0.801470588235294, 0.801470588235294, 0.801470588235294, 0.801470588235294, 0.801470588235294, 0.8088235294117647, 0.8088235294117647, 0.8088235294117647, 0.8088235294117647, 0.8088235294117647]}], \"precision_score_micro\": [{\"categories\": [\"0\", \"1\", \"2\", \"3\", \"4\", \"5\", \"6\", \"7\", \"8\", \"9\", \"10\", \"11\", \"12\", \"13\", \"14\", \"15\", \"16\", \"17\", \"18\", \"19\", \"20\", \"21\", \"22\", \"23\", \"24\", \"25\", \"26\"], \"mode\": \"markers\", \"name\": \"precision_score_micro\", \"stepped\": false, \"type\": \"scatter\", \"data\": [0.6544117647058824, 0.6985294117647058, 0.7647058823529412, 0.6544117647058822, 0.7279411764705883, 0.7867647058823529, 0.801470588235294, 0.7794117647058824, 0.7794117647058822, 0.7941176470588235, 0.7867647058823529, 0.7867647058823529, 0.7058823529411765, 0.7205882352941178, 0.7794117647058822, 0.7573529411764706, 0.7426470588235294, 0.7794117647058824, 0.7279411764705883, 0.7279411764705882, 0.7794117647058824, 0.75, 0.8088235294117647, 0.7279411764705883, 0.375, 0.7794117647058824, 0.7573529411764706]}, {\"categories\": [\"0\", \"1\", \"2\", \"3\", \"4\", \"5\", \"6\", \"7\", \"8\", \"9\", \"10\", \"11\", \"12\", \"13\", \"14\", \"15\", \"16\", \"17\", \"18\", \"19\", \"20\", \"21\", \"22\", \"23\", \"24\", \"25\", \"26\"], \"mode\": \"lines\", \"name\": \"precision_score_micro_max\", \"stepped\": true, \"type\": \"scatter\", \"data\": [0.6544117647058824, 0.6985294117647058, 0.7647058823529412, 0.7647058823529412, 0.7647058823529412, 0.7867647058823529, 0.801470588235294, 0.801470588235294, 0.801470588235294, 0.801470588235294, 0.801470588235294, 0.801470588235294, 0.801470588235294, 0.801470588235294, 0.801470588235294, 0.801470588235294, 0.801470588235294, 0.801470588235294, 0.801470588235294, 0.801470588235294, 0.801470588235294, 0.801470588235294, 0.8088235294117647, 0.8088235294117647, 0.8088235294117647, 0.8088235294117647, 0.8088235294117647]}], \"balanced_accuracy\": [{\"categories\": [\"0\", \"1\", \"2\", \"3\", \"4\", \"5\", \"6\", \"7\", \"8\", \"9\", \"10\", \"11\", \"12\", \"13\", \"14\", \"15\", \"16\", \"17\", \"18\", \"19\", \"20\", \"21\", \"22\", \"23\", \"24\", \"25\", \"26\"], \"mode\": \"markers\", \"name\": \"balanced_accuracy\", \"stepped\": false, \"type\": \"scatter\", \"data\": [0.5333928571428571, 0.5167195767195767, 0.6224900793650794, 0.7093551587301588, 0.6975992063492064, 0.6282771164021164, 0.6666666666666667, 0.6245965608465608, 0.6699074074074074, 0.6431150793650793, 0.6779265873015873, 0.5903306878306878, 0.6752612433862435, 0.5589980158730159, 0.5876587301587302, 0.528968253968254, 0.5817063492063492, 0.5973214285714286, 0.7181183862433862, 0.6804695767195768, 0.5975628306878307, 0.4947916666666667, 0.6692328042328042, 0.7287665343915345, 0.5744345238095239, 0.6927281746031746, 0.5264550264550265]}, {\"categories\": [\"0\", \"1\", \"2\", \"3\", \"4\", \"5\", \"6\", \"7\", \"8\", \"9\", \"10\", \"11\", \"12\", \"13\", \"14\", \"15\", \"16\", \"17\", \"18\", \"19\", \"20\", \"21\", \"22\", \"23\", \"24\", \"25\", \"26\"], \"mode\": \"lines\", \"name\": \"balanced_accuracy_max\", \"stepped\": true, \"type\": \"scatter\", \"data\": [0.5333928571428571, 0.5333928571428571, 0.6224900793650794, 0.7093551587301588, 0.7093551587301588, 0.7093551587301588, 0.7093551587301588, 0.7093551587301588, 0.7093551587301588, 0.7093551587301588, 0.7093551587301588, 0.7093551587301588, 0.7093551587301588, 0.7093551587301588, 0.7093551587301588, 0.7093551587301588, 0.7093551587301588, 0.7093551587301588, 0.7181183862433862, 0.7181183862433862, 0.7181183862433862, 0.7181183862433862, 0.7181183862433862, 0.7287665343915345, 0.7287665343915345, 0.7287665343915345, 0.7287665343915345]}], \"average_precision_score_micro\": [{\"categories\": [\"0\", \"1\", \"2\", \"3\", \"4\", \"5\", \"6\", \"7\", \"8\", \"9\", \"10\", \"11\", \"12\", \"13\", \"14\", \"15\", \"16\", \"17\", \"18\", \"19\", \"20\", \"21\", \"22\", \"23\", \"24\", \"25\", \"26\"], \"mode\": \"markers\", \"name\": \"average_precision_score_micro\", \"stepped\": false, \"type\": \"scatter\", \"data\": [0.7998180395853057, 0.8140852116302699, 0.7934237748137032, 0.7589426624174462, 0.8202004649804849, 0.8341917947212123, 0.8605216726785242, 0.8325429228790076, 0.8263014863229852, 0.8115453954578403, 0.8497813627548075, 0.8873393884259387, 0.8215674834639826, 0.7994050316158265, 0.8837453006429259, 0.7482108046996491, 0.8253582313516328, 0.882631093325897, 0.817281742185718, 0.8175710614236762, 0.8820579083657444, 0.7924028462240771, 0.8920010133924356, 0.8091552226415994, 0.5743177155702534, 0.8881829859046462, 0.887563471070137]}, {\"categories\": [\"0\", \"1\", \"2\", \"3\", \"4\", \"5\", \"6\", \"7\", \"8\", \"9\", \"10\", \"11\", \"12\", \"13\", \"14\", \"15\", \"16\", \"17\", \"18\", \"19\", \"20\", \"21\", \"22\", \"23\", \"24\", \"25\", \"26\"], \"mode\": \"lines\", \"name\": \"average_precision_score_micro_max\", \"stepped\": true, \"type\": \"scatter\", \"data\": [0.7998180395853057, 0.8140852116302699, 0.8140852116302699, 0.8140852116302699, 0.8202004649804849, 0.8341917947212123, 0.8605216726785242, 0.8605216726785242, 0.8605216726785242, 0.8605216726785242, 0.8605216726785242, 0.8873393884259387, 0.8873393884259387, 0.8873393884259387, 0.8873393884259387, 0.8873393884259387, 0.8873393884259387, 0.8873393884259387, 0.8873393884259387, 0.8873393884259387, 0.8873393884259387, 0.8873393884259387, 0.8920010133924356, 0.8920010133924356, 0.8920010133924356, 0.8920010133924356, 0.8920010133924356]}], \"AUC_macro\": [{\"categories\": [\"0\", \"1\", \"2\", \"3\", \"4\", \"5\", \"6\", \"7\", \"8\", \"9\", \"10\", \"11\", \"12\", \"13\", \"14\", \"15\", \"16\", \"17\", \"18\", \"19\", \"20\", \"21\", \"22\", \"23\", \"24\", \"25\", \"26\"], \"mode\": \"markers\", \"name\": \"AUC_macro\", \"stepped\": false, \"type\": \"scatter\", \"data\": [0.7181117724867725, 0.697609126984127, 0.6611053240740741, 0.8375, 0.8374305555555556, 0.756332671957672, 0.7829960317460317, 0.7149272486772487, 0.7372189153439154, 0.700787037037037, 0.7708763227513228, 0.8379232804232803, 0.8242361111111112, 0.6806779100529101, 0.8171296296296295, 0.5161011904761904, 0.713912037037037, 0.8375, 0.8312533068783069, 0.8314351851851851, 0.8212533068783068, 0.6351157407407408, 0.8304794973544974, 0.839864417989418, 0.8112169312169313, 0.8543287037037037, 0.8349107142857143]}, {\"categories\": [\"0\", \"1\", \"2\", \"3\", \"4\", \"5\", \"6\", \"7\", \"8\", \"9\", \"10\", \"11\", \"12\", \"13\", \"14\", \"15\", \"16\", \"17\", \"18\", \"19\", \"20\", \"21\", \"22\", \"23\", \"24\", \"25\", \"26\"], \"mode\": \"lines\", \"name\": \"AUC_macro_max\", \"stepped\": true, \"type\": \"scatter\", \"data\": [0.7181117724867725, 0.7181117724867725, 0.7181117724867725, 0.8375, 0.8375, 0.8375, 0.8375, 0.8375, 0.8375, 0.8375, 0.8375, 0.8379232804232803, 0.8379232804232803, 0.8379232804232803, 0.8379232804232803, 0.8379232804232803, 0.8379232804232803, 0.8379232804232803, 0.8379232804232803, 0.8379232804232803, 0.8379232804232803, 0.8379232804232803, 0.8379232804232803, 0.839864417989418, 0.839864417989418, 0.8543287037037037, 0.8543287037037037]}], \"average_precision_score_weighted\": [{\"categories\": [\"0\", \"1\", \"2\", \"3\", \"4\", \"5\", \"6\", \"7\", \"8\", \"9\", \"10\", \"11\", \"12\", \"13\", \"14\", \"15\", \"16\", \"17\", \"18\", \"19\", \"20\", \"21\", \"22\", \"23\", \"24\", \"25\", \"26\"], \"mode\": \"markers\", \"name\": \"average_precision_score_weighted\", \"stepped\": false, \"type\": \"scatter\", \"data\": [0.7893083528207498, 0.7694160068331697, 0.76052393814126, 0.8793329087957185, 0.880603781699978, 0.803075343944208, 0.8364453611674033, 0.8022856270998318, 0.8198348156327582, 0.7816517762002175, 0.8348663487362135, 0.877814004189442, 0.8602335794089371, 0.7630171969617447, 0.8659539255052342, 0.707712088448796, 0.7920931434829368, 0.8793329087957185, 0.8738111585447895, 0.8770637291707628, 0.859408273570204, 0.7273146807490023, 0.8738527007214585, 0.8817543460188328, 0.8498680921383054, 0.8901347466531422, 0.8787552593856066]}, {\"categories\": [\"0\", \"1\", \"2\", \"3\", \"4\", \"5\", \"6\", \"7\", \"8\", \"9\", \"10\", \"11\", \"12\", \"13\", \"14\", \"15\", \"16\", \"17\", \"18\", \"19\", \"20\", \"21\", \"22\", \"23\", \"24\", \"25\", \"26\"], \"mode\": \"lines\", \"name\": \"average_precision_score_weighted_max\", \"stepped\": true, \"type\": \"scatter\", \"data\": [0.7893083528207498, 0.7893083528207498, 0.7893083528207498, 0.8793329087957185, 0.880603781699978, 0.880603781699978, 0.880603781699978, 0.880603781699978, 0.880603781699978, 0.880603781699978, 0.880603781699978, 0.880603781699978, 0.880603781699978, 0.880603781699978, 0.880603781699978, 0.880603781699978, 0.880603781699978, 0.880603781699978, 0.880603781699978, 0.880603781699978, 0.880603781699978, 0.880603781699978, 0.880603781699978, 0.8817543460188328, 0.8817543460188328, 0.8901347466531422, 0.8901347466531422]}], \"AUC_micro\": [{\"categories\": [\"0\", \"1\", \"2\", \"3\", \"4\", \"5\", \"6\", \"7\", \"8\", \"9\", \"10\", \"11\", \"12\", \"13\", \"14\", \"15\", \"16\", \"17\", \"18\", \"19\", \"20\", \"21\", \"22\", \"23\", \"24\", \"25\", \"26\"], \"mode\": \"markers\", \"name\": \"AUC_micro\", \"stepped\": false, \"type\": \"scatter\", \"data\": [0.7882785467128027, 0.8096885813148789, 0.7974697231833909, 0.7324826989619377, 0.8055795847750865, 0.8462370242214533, 0.8652681660899653, 0.8352076124567474, 0.820069204152249, 0.8272058823529411, 0.8432093425605536, 0.8799740484429066, 0.8027681660899654, 0.8011461937716263, 0.8780276816608997, 0.7592993079584774, 0.8228806228373703, 0.8771626297577855, 0.8025519031141868, 0.8055795847750865, 0.874567474048443, 0.7988754325259515, 0.8853806228373702, 0.7943339100346021, 0.49718858131487886, 0.8775951557093427, 0.8795415224913494]}, {\"categories\": [\"0\", \"1\", \"2\", \"3\", \"4\", \"5\", \"6\", \"7\", \"8\", \"9\", \"10\", \"11\", \"12\", \"13\", \"14\", \"15\", \"16\", \"17\", \"18\", \"19\", \"20\", \"21\", \"22\", \"23\", \"24\", \"25\", \"26\"], \"mode\": \"lines\", \"name\": \"AUC_micro_max\", \"stepped\": true, \"type\": \"scatter\", \"data\": [0.7882785467128027, 0.8096885813148789, 0.8096885813148789, 0.8096885813148789, 0.8096885813148789, 0.8462370242214533, 0.8652681660899653, 0.8652681660899653, 0.8652681660899653, 0.8652681660899653, 0.8652681660899653, 0.8799740484429066, 0.8799740484429066, 0.8799740484429066, 0.8799740484429066, 0.8799740484429066, 0.8799740484429066, 0.8799740484429066, 0.8799740484429066, 0.8799740484429066, 0.8799740484429066, 0.8799740484429066, 0.8853806228373702, 0.8853806228373702, 0.8853806228373702, 0.8853806228373702, 0.8853806228373702]}], \"matthews_correlation\": [{\"categories\": [\"0\", \"1\", \"2\", \"3\", \"4\", \"5\", \"6\", \"7\", \"8\", \"9\", \"10\", \"11\", \"12\", \"13\", \"14\", \"15\", \"16\", \"17\", \"18\", \"19\", \"20\", \"21\", \"22\", \"23\", \"24\", \"25\", \"26\"], \"mode\": \"markers\", \"name\": \"matthews_correlation\", \"stepped\": false, \"type\": \"scatter\", \"data\": [0.08938557452411641, 0.045833191320874156, 0.292231400270186, 0.39355175641499857, 0.36839961396031545, 0.3294421283620228, 0.4045829172251205, 0.3013032641551283, 0.3786961433046698, 0.3696654978413213, 0.39805893437864875, 0.2554236095110425, 0.3283471066395228, 0.1504733797136804, 0.25626598054277516, 0.11046320179493493, 0.19887270499474652, 0.2916459721614635, 0.40632044371841664, 0.3408294528852272, 0.2969990342639036, -0.028091660935968422, 0.3765558449862825, 0.4267280808516406, 0.17554279632676253, 0.40975975265358455, 0.06640158940746632]}, {\"categories\": [\"0\", \"1\", \"2\", \"3\", \"4\", \"5\", \"6\", \"7\", \"8\", \"9\", \"10\", \"11\", \"12\", \"13\", \"14\", \"15\", \"16\", \"17\", \"18\", \"19\", \"20\", \"21\", \"22\", \"23\", \"24\", \"25\", \"26\"], \"mode\": \"lines\", \"name\": \"matthews_correlation_max\", \"stepped\": true, \"type\": \"scatter\", \"data\": [0.08938557452411641, 0.08938557452411641, 0.292231400270186, 0.39355175641499857, 0.39355175641499857, 0.39355175641499857, 0.4045829172251205, 0.4045829172251205, 0.4045829172251205, 0.4045829172251205, 0.4045829172251205, 0.4045829172251205, 0.4045829172251205, 0.4045829172251205, 0.4045829172251205, 0.4045829172251205, 0.4045829172251205, 0.4045829172251205, 0.40632044371841664, 0.40632044371841664, 0.40632044371841664, 0.40632044371841664, 0.40632044371841664, 0.4267280808516406, 0.4267280808516406, 0.4267280808516406, 0.4267280808516406]}], \"norm_macro_recall\": [{\"categories\": [\"0\", \"1\", \"2\", \"3\", \"4\", \"5\", \"6\", \"7\", \"8\", \"9\", \"10\", \"11\", \"12\", \"13\", \"14\", \"15\", \"16\", \"17\", \"18\", \"19\", \"20\", \"21\", \"22\", \"23\", \"24\", \"25\", \"26\"], \"mode\": \"markers\", \"name\": \"norm_macro_recall\", \"stepped\": false, \"type\": \"scatter\", \"data\": [0.12095238095238092, 0.06068783068783068, 0.24498015873015871, 0.41871031746031745, 0.39519841269841266, 0.2565542328042328, 0.33333333333333337, 0.24919312169312163, 0.33981481481481485, 0.28623015873015867, 0.3558531746031746, 0.18066137566137563, 0.3505224867724868, 0.11799603174603168, 0.17531746031746032, 0.07645502645502644, 0.16341269841269845, 0.19464285714285712, 0.4362367724867725, 0.3609391534391534, 0.19512566137566134, 0.0, 0.3384656084656084, 0.4575330687830688, 0.1568055555555556, 0.3854563492063492, 0.05291005291005291]}, {\"categories\": [\"0\", \"1\", \"2\", \"3\", \"4\", \"5\", \"6\", \"7\", \"8\", \"9\", \"10\", \"11\", \"12\", \"13\", \"14\", \"15\", \"16\", \"17\", \"18\", \"19\", \"20\", \"21\", \"22\", \"23\", \"24\", \"25\", \"26\"], \"mode\": \"lines\", \"name\": \"norm_macro_recall_max\", \"stepped\": true, \"type\": \"scatter\", \"data\": [0.12095238095238092, 0.12095238095238092, 0.24498015873015871, 0.41871031746031745, 0.41871031746031745, 0.41871031746031745, 0.41871031746031745, 0.41871031746031745, 0.41871031746031745, 0.41871031746031745, 0.41871031746031745, 0.41871031746031745, 0.41871031746031745, 0.41871031746031745, 0.41871031746031745, 0.41871031746031745, 0.41871031746031745, 0.41871031746031745, 0.4362367724867725, 0.4362367724867725, 0.4362367724867725, 0.4362367724867725, 0.4362367724867725, 0.4575330687830688, 0.4575330687830688, 0.4575330687830688, 0.4575330687830688]}], \"precision_score_macro\": [{\"categories\": [\"0\", \"1\", \"2\", \"3\", \"4\", \"5\", \"6\", \"7\", \"8\", \"9\", \"10\", \"11\", \"12\", \"13\", \"14\", \"15\", \"16\", \"17\", \"18\", \"19\", \"20\", \"21\", \"22\", \"23\", \"24\", \"25\", \"26\"], \"mode\": \"markers\", \"name\": \"precision_score_macro\", \"stepped\": false, \"type\": \"scatter\", \"data\": [0.5652597402597404, 0.5313297844165474, 0.6752901193633952, 0.6861043756967671, 0.6749751984126984, 0.7381694246613602, 0.7760461760461761, 0.6876847290640394, 0.7306125992063492, 0.7408833889506861, 0.7562190225233704, 0.657530834914611, 0.6570013422035481, 0.5983679365735817, 0.6684948289179194, 0.5723805147058824, 0.6259157509157509, 0.714425969251337, 0.6920459850606908, 0.6653313049357674, 0.7311407930107527, 0.37756238859180036, 0.6761651882975412, 0.7010099367007263, 0.6069892473118279, 0.7230431848852902, 0.44607843137254904]}, {\"categories\": [\"0\", \"1\", \"2\", \"3\", \"4\", \"5\", \"6\", \"7\", \"8\", \"9\", \"10\", \"11\", \"12\", \"13\", \"14\", \"15\", \"16\", \"17\", \"18\", \"19\", \"20\", \"21\", \"22\", \"23\", \"24\", \"25\", \"26\"], \"mode\": \"lines\", \"name\": \"precision_score_macro_max\", \"stepped\": true, \"type\": \"scatter\", \"data\": [0.5652597402597404, 0.5652597402597404, 0.6752901193633952, 0.6861043756967671, 0.6861043756967671, 0.7381694246613602, 0.7760461760461761, 0.7760461760461761, 0.7760461760461761, 0.7760461760461761, 0.7760461760461761, 0.7760461760461761, 0.7760461760461761, 0.7760461760461761, 0.7760461760461761, 0.7760461760461761, 0.7760461760461761, 0.7760461760461761, 0.7760461760461761, 0.7760461760461761, 0.7760461760461761, 0.7760461760461761, 0.7760461760461761, 0.7760461760461761, 0.7760461760461761, 0.7760461760461761, 0.7760461760461761]}], \"f1_score_weighted\": [{\"categories\": [\"0\", \"1\", \"2\", \"3\", \"4\", \"5\", \"6\", \"7\", \"8\", \"9\", \"10\", \"11\", \"12\", \"13\", \"14\", \"15\", \"16\", \"17\", \"18\", \"19\", \"20\", \"21\", \"22\", \"23\", \"24\", \"25\", \"26\"], \"mode\": \"markers\", \"name\": \"f1_score_weighted\", \"stepped\": false, \"type\": \"scatter\", \"data\": [0.6437067596891232, 0.6646238479037562, 0.7442604067758867, 0.6603677229405693, 0.7317961606988292, 0.7509721895751308, 0.774619646698678, 0.7477671723684924, 0.7661605261353713, 0.7683760784263151, 0.7681637144953358, 0.7349114232085734, 0.7110006784743188, 0.69570547184391, 0.7338061083468305, 0.6862112076469006, 0.715432125494045, 0.7301218407798125, 0.7332554361005934, 0.7270828247588119, 0.740099137276039, 0.6496922089641344, 0.7646334662455085, 0.7381838950967906, 0.3364936812785745, 0.770176225026405, 0.6704398092611469]}, {\"categories\": [\"0\", \"1\", \"2\", \"3\", \"4\", \"5\", \"6\", \"7\", \"8\", \"9\", \"10\", \"11\", \"12\", \"13\", \"14\", \"15\", \"16\", \"17\", \"18\", \"19\", \"20\", \"21\", \"22\", \"23\", \"24\", \"25\", \"26\"], \"mode\": \"lines\", \"name\": \"f1_score_weighted_max\", \"stepped\": true, \"type\": \"scatter\", \"data\": [0.6437067596891232, 0.6646238479037562, 0.7442604067758867, 0.7442604067758867, 0.7442604067758867, 0.7509721895751308, 0.774619646698678, 0.774619646698678, 0.774619646698678, 0.774619646698678, 0.774619646698678, 0.774619646698678, 0.774619646698678, 0.774619646698678, 0.774619646698678, 0.774619646698678, 0.774619646698678, 0.774619646698678, 0.774619646698678, 0.774619646698678, 0.774619646698678, 0.774619646698678, 0.774619646698678, 0.774619646698678, 0.774619646698678, 0.774619646698678, 0.774619646698678]}], \"accuracy\": [{\"categories\": [\"0\", \"1\", \"2\", \"3\", \"4\", \"5\", \"6\", \"7\", \"8\", \"9\", \"10\", \"11\", \"12\", \"13\", \"14\", \"15\", \"16\", \"17\", \"18\", \"19\", \"20\", \"21\", \"22\", \"23\", \"24\", \"25\", \"26\"], \"mode\": \"markers\", \"name\": \"accuracy\", \"stepped\": false, \"type\": \"scatter\", \"data\": [0.6544117647058824, 0.6985294117647058, 0.7647058823529412, 0.6544117647058822, 0.7279411764705883, 0.7867647058823529, 0.801470588235294, 0.7794117647058824, 0.7794117647058822, 0.7941176470588235, 0.7867647058823529, 0.7867647058823529, 0.7058823529411765, 0.7205882352941178, 0.7794117647058822, 0.7573529411764706, 0.7426470588235294, 0.7794117647058824, 0.7279411764705883, 0.7279411764705882, 0.7794117647058824, 0.75, 0.8088235294117647, 0.7279411764705883, 0.375, 0.7794117647058824, 0.7573529411764706]}, {\"categories\": [\"0\", \"1\", \"2\", \"3\", \"4\", \"5\", \"6\", \"7\", \"8\", \"9\", \"10\", \"11\", \"12\", \"13\", \"14\", \"15\", \"16\", \"17\", \"18\", \"19\", \"20\", \"21\", \"22\", \"23\", \"24\", \"25\", \"26\"], \"mode\": \"lines\", \"name\": \"accuracy_max\", \"stepped\": true, \"type\": \"scatter\", \"data\": [0.6544117647058824, 0.6985294117647058, 0.7647058823529412, 0.7647058823529412, 0.7647058823529412, 0.7867647058823529, 0.801470588235294, 0.801470588235294, 0.801470588235294, 0.801470588235294, 0.801470588235294, 0.801470588235294, 0.801470588235294, 0.801470588235294, 0.801470588235294, 0.801470588235294, 0.801470588235294, 0.801470588235294, 0.801470588235294, 0.801470588235294, 0.801470588235294, 0.801470588235294, 0.8088235294117647, 0.8088235294117647, 0.8088235294117647, 0.8088235294117647, 0.8088235294117647]}]}, \"metricName\": null, \"primaryMetricName\": \"AUC_weighted\", \"showLegend\": false}, \"run_metrics\": [{\"name\": \"experiment_status\", \"run_id\": \"AutoML_718264c0-8f6b-4bc7-bad4-a00e4ed47f2a\", \"categories\": [0, 1, 2, 3, 4, 5, 6, 7, 8, 9, 10, 11], \"series\": [{\"data\": [\"DatasetEvaluation\", \"FeaturesGeneration\", \"DatasetFeaturization\", \"DatasetFeaturizationCompleted\", \"DatasetCrossValidationSplit\", \"ModelSelection\", \"BestRunExplainModel\", \"ModelExplanationDataSetSetup\", \"PickSurrogateModel\", \"EngineeredFeatureExplanations\", \"EngineeredFeatureExplanations\", \"BestRunExplainModel\"]}]}, {\"name\": \"experiment_status_description\", \"run_id\": \"AutoML_718264c0-8f6b-4bc7-bad4-a00e4ed47f2a\", \"categories\": [0, 1, 2, 3, 4, 5, 6, 7, 8, 9, 10, 11], \"series\": [{\"data\": [\"Gathering dataset statistics.\", \"Generating features for the dataset.\", \"Beginning to fit featurizers and featurize the dataset.\", \"Completed fit featurizers and featurizing the dataset.\", \"Generating individually featurized CV splits.\", \"Beginning model selection.\", \"Best run model explanations started\", \"Model explanations data setup completed\", \"Choosing LightGBM as the surrogate model for explanations\", \"Computation of engineered features started\", \"Computation of engineered features completed\", \"Best run model explanations completed\"]}]}, {\"name\": \"f1_score_macro\", \"run_id\": \"AutoML_718264c0-8f6b-4bc7-bad4-a00e4ed47f2a\", \"categories\": [0], \"series\": [{\"data\": [0.6903577295355776]}]}, {\"name\": \"average_precision_score_macro\", \"run_id\": \"AutoML_718264c0-8f6b-4bc7-bad4-a00e4ed47f2a\", \"categories\": [0], \"series\": [{\"data\": [0.8340335604633247]}]}, {\"name\": \"log_loss\", \"run_id\": \"AutoML_718264c0-8f6b-4bc7-bad4-a00e4ed47f2a\", \"categories\": [0], \"series\": [{\"data\": [0.5014060964310225]}]}, {\"name\": \"weighted_accuracy\", \"run_id\": \"AutoML_718264c0-8f6b-4bc7-bad4-a00e4ed47f2a\", \"categories\": [0], \"series\": [{\"data\": [0.8280362152136811]}]}, {\"name\": \"precision_score_weighted\", \"run_id\": \"AutoML_718264c0-8f6b-4bc7-bad4-a00e4ed47f2a\", \"categories\": [0], \"series\": [{\"data\": [0.78290862903866]}]}, {\"name\": \"AUC_weighted\", \"run_id\": \"AutoML_718264c0-8f6b-4bc7-bad4-a00e4ed47f2a\", \"categories\": [0], \"series\": [{\"data\": [0.8543287037037037]}]}, {\"name\": \"recall_score_weighted\", \"run_id\": \"AutoML_718264c0-8f6b-4bc7-bad4-a00e4ed47f2a\", \"categories\": [0], \"series\": [{\"data\": [0.7794117647058824]}]}, {\"name\": \"recall_score_macro\", \"run_id\": \"AutoML_718264c0-8f6b-4bc7-bad4-a00e4ed47f2a\", \"categories\": [0], \"series\": [{\"data\": [0.6927281746031746]}]}, {\"name\": \"f1_score_micro\", \"run_id\": \"AutoML_718264c0-8f6b-4bc7-bad4-a00e4ed47f2a\", \"categories\": [0], \"series\": [{\"data\": [0.7794117647058824]}]}, {\"name\": \"recall_score_micro\", \"run_id\": \"AutoML_718264c0-8f6b-4bc7-bad4-a00e4ed47f2a\", \"categories\": [0], \"series\": [{\"data\": [0.7794117647058824]}]}, {\"name\": \"precision_score_micro\", \"run_id\": \"AutoML_718264c0-8f6b-4bc7-bad4-a00e4ed47f2a\", \"categories\": [0], \"series\": [{\"data\": [0.7794117647058824]}]}, {\"name\": \"balanced_accuracy\", \"run_id\": \"AutoML_718264c0-8f6b-4bc7-bad4-a00e4ed47f2a\", \"categories\": [0], \"series\": [{\"data\": [0.6927281746031746]}]}, {\"name\": \"average_precision_score_micro\", \"run_id\": \"AutoML_718264c0-8f6b-4bc7-bad4-a00e4ed47f2a\", \"categories\": [0], \"series\": [{\"data\": [0.8881829859046462]}]}, {\"name\": \"AUC_macro\", \"run_id\": \"AutoML_718264c0-8f6b-4bc7-bad4-a00e4ed47f2a\", \"categories\": [0], \"series\": [{\"data\": [0.8543287037037037]}]}, {\"name\": \"average_precision_score_weighted\", \"run_id\": \"AutoML_718264c0-8f6b-4bc7-bad4-a00e4ed47f2a\", \"categories\": [0], \"series\": [{\"data\": [0.8901347466531422]}]}, {\"name\": \"AUC_micro\", \"run_id\": \"AutoML_718264c0-8f6b-4bc7-bad4-a00e4ed47f2a\", \"categories\": [0], \"series\": [{\"data\": [0.8775951557093427]}]}, {\"name\": \"matthews_correlation\", \"run_id\": \"AutoML_718264c0-8f6b-4bc7-bad4-a00e4ed47f2a\", \"categories\": [0], \"series\": [{\"data\": [0.40975975265358455]}]}, {\"name\": \"norm_macro_recall\", \"run_id\": \"AutoML_718264c0-8f6b-4bc7-bad4-a00e4ed47f2a\", \"categories\": [0], \"series\": [{\"data\": [0.3854563492063492]}]}, {\"name\": \"precision_score_macro\", \"run_id\": \"AutoML_718264c0-8f6b-4bc7-bad4-a00e4ed47f2a\", \"categories\": [0], \"series\": [{\"data\": [0.7230431848852902]}]}, {\"name\": \"f1_score_weighted\", \"run_id\": \"AutoML_718264c0-8f6b-4bc7-bad4-a00e4ed47f2a\", \"categories\": [0], \"series\": [{\"data\": [0.770176225026405]}]}, {\"name\": \"accuracy\", \"run_id\": \"AutoML_718264c0-8f6b-4bc7-bad4-a00e4ed47f2a\", \"categories\": [0], \"series\": [{\"data\": [0.7794117647058824]}]}], \"run_logs\": \"\\nRun is completed.\", \"graph\": {}, \"widget_settings\": {\"childWidgetDisplay\": \"popup\", \"send_telemetry\": false, \"log_level\": \"INFO\", \"sdk_version\": \"1.16.0\"}, \"loading\": false}"
     },
     "metadata": {}
    }
   ],
   "source": [
    "RunDetails(remote_run).show()"
   ]
  },
  {
   "cell_type": "markdown",
   "metadata": {},
   "source": [
    "## Best Model"
   ]
  },
  {
   "cell_type": "code",
   "execution_count": 11,
   "metadata": {},
   "outputs": [],
   "source": [
    "from azureml.core.model import Model\n",
    "import joblib\n",
    "\n",
    "from utils import print_model"
   ]
  },
  {
   "cell_type": "code",
   "execution_count": 12,
   "metadata": {},
   "outputs": [],
   "source": [
    "automl_run, best_automl_model = remote_run.get_output()"
   ]
  },
  {
   "cell_type": "code",
   "execution_count": 13,
   "metadata": {},
   "outputs": [
    {
     "output_type": "stream",
     "name": "stdout",
     "text": [
      "Run(Experiment: capstone,\nId: AutoML_718264c0-8f6b-4bc7-bad4-a00e4ed47f2a_25,\nType: None,\nStatus: Completed)\n"
     ]
    }
   ],
   "source": [
    "print(automl_run)"
   ]
  },
  {
   "cell_type": "code",
   "execution_count": 14,
   "metadata": {},
   "outputs": [
    {
     "output_type": "stream",
     "name": "stdout",
     "text": [
      "datatransformer\n",
      "{'enable_dnn': None,\n",
      " 'enable_feature_sweeping': None,\n",
      " 'feature_sweeping_config': None,\n",
      " 'feature_sweeping_timeout': None,\n",
      " 'featurization_config': None,\n",
      " 'force_text_dnn': None,\n",
      " 'is_cross_validation': None,\n",
      " 'is_onnx_compatible': None,\n",
      " 'logger': None,\n",
      " 'observer': None,\n",
      " 'task': None,\n",
      " 'working_dir': None}\n",
      "\n",
      "prefittedsoftvotingclassifier\n",
      "{'estimators': ['23', '11', '17', '3', '4', '19', '12', '14', '1', '21'],\n",
      " 'weights': [0.13333333333333333,\n",
      "             0.06666666666666667,\n",
      "             0.13333333333333333,\n",
      "             0.2,\n",
      "             0.06666666666666667,\n",
      "             0.06666666666666667,\n",
      "             0.13333333333333333,\n",
      "             0.06666666666666667,\n",
      "             0.06666666666666667,\n",
      "             0.06666666666666667]}\n",
      "\n",
      "23 - maxabsscaler\n",
      "{'copy': True}\n",
      "\n",
      "23 - sgdclassifierwrapper\n",
      "{'alpha': 3.8776122448979593,\n",
      " 'class_weight': 'balanced',\n",
      " 'eta0': 0.01,\n",
      " 'fit_intercept': True,\n",
      " 'l1_ratio': 0.44897959183673464,\n",
      " 'learning_rate': 'invscaling',\n",
      " 'loss': 'log',\n",
      " 'max_iter': 1000,\n",
      " 'n_jobs': 1,\n",
      " 'penalty': 'none',\n",
      " 'power_t': 0.1111111111111111,\n",
      " 'random_state': None,\n",
      " 'tol': 0.01}\n",
      "\n",
      "11 - minmaxscaler\n",
      "{'copy': True, 'feature_range': (0, 1)}\n",
      "\n",
      "11 - sgdclassifierwrapper\n",
      "{'alpha': 4.693930612244897,\n",
      " 'class_weight': 'balanced',\n",
      " 'eta0': 0.001,\n",
      " 'fit_intercept': False,\n",
      " 'l1_ratio': 0.3877551020408163,\n",
      " 'learning_rate': 'constant',\n",
      " 'loss': 'squared_hinge',\n",
      " 'max_iter': 1000,\n",
      " 'n_jobs': 1,\n",
      " 'penalty': 'none',\n",
      " 'power_t': 0.3333333333333333,\n",
      " 'random_state': None,\n",
      " 'tol': 0.001}\n",
      "\n",
      "17 - standardscalerwrapper\n",
      "{'class_name': 'StandardScaler',\n",
      " 'copy': True,\n",
      " 'module_name': 'sklearn.preprocessing._data',\n",
      " 'with_mean': True,\n",
      " 'with_std': True}\n",
      "\n",
      "17 - sgdclassifierwrapper\n",
      "{'alpha': 0.0001,\n",
      " 'class_weight': 'balanced',\n",
      " 'eta0': 0.0001,\n",
      " 'fit_intercept': True,\n",
      " 'l1_ratio': 0.4897959183673469,\n",
      " 'learning_rate': 'constant',\n",
      " 'loss': 'squared_hinge',\n",
      " 'max_iter': 1000,\n",
      " 'n_jobs': 1,\n",
      " 'penalty': 'none',\n",
      " 'power_t': 0.6666666666666666,\n",
      " 'random_state': None,\n",
      " 'tol': 0.01}\n",
      "\n",
      "3 - standardscalerwrapper\n",
      "{'class_name': 'StandardScaler',\n",
      " 'copy': True,\n",
      " 'module_name': 'sklearn.preprocessing._data',\n",
      " 'with_mean': True,\n",
      " 'with_std': True}\n",
      "\n",
      "3 - sgdclassifierwrapper\n",
      "{'alpha': 3.0612938775510203,\n",
      " 'class_weight': 'balanced',\n",
      " 'eta0': 0.0001,\n",
      " 'fit_intercept': True,\n",
      " 'l1_ratio': 0.8979591836734693,\n",
      " 'learning_rate': 'constant',\n",
      " 'loss': 'modified_huber',\n",
      " 'max_iter': 1000,\n",
      " 'n_jobs': 1,\n",
      " 'penalty': 'none',\n",
      " 'power_t': 0.6666666666666666,\n",
      " 'random_state': None,\n",
      " 'tol': 0.01}\n",
      "\n",
      "4 - minmaxscaler\n",
      "{'copy': True, 'feature_range': (0, 1)}\n",
      "\n",
      "4 - sgdclassifierwrapper\n",
      "{'alpha': 9.59184081632653,\n",
      " 'class_weight': 'balanced',\n",
      " 'eta0': 0.01,\n",
      " 'fit_intercept': True,\n",
      " 'l1_ratio': 0.3877551020408163,\n",
      " 'learning_rate': 'invscaling',\n",
      " 'loss': 'log',\n",
      " 'max_iter': 1000,\n",
      " 'n_jobs': 1,\n",
      " 'penalty': 'none',\n",
      " 'power_t': 0,\n",
      " 'random_state': None,\n",
      " 'tol': 0.01}\n",
      "\n",
      "19 - standardscalerwrapper\n",
      "{'class_name': 'StandardScaler',\n",
      " 'copy': True,\n",
      " 'module_name': 'sklearn.preprocessing._data',\n",
      " 'with_mean': True,\n",
      " 'with_std': True}\n",
      "\n",
      "19 - sgdclassifierwrapper\n",
      "{'alpha': 5.918408163265306,\n",
      " 'class_weight': None,\n",
      " 'eta0': 1e-05,\n",
      " 'fit_intercept': True,\n",
      " 'l1_ratio': 0.7959183673469387,\n",
      " 'learning_rate': 'constant',\n",
      " 'loss': 'modified_huber',\n",
      " 'max_iter': 1000,\n",
      " 'n_jobs': 1,\n",
      " 'penalty': 'none',\n",
      " 'power_t': 0.7777777777777777,\n",
      " 'random_state': None,\n",
      " 'tol': 0.001}\n",
      "\n",
      "12 - robustscaler\n",
      "{'copy': True,\n",
      " 'quantile_range': [10, 90],\n",
      " 'with_centering': False,\n",
      " 'with_scaling': False}\n",
      "\n",
      "12 - extratreesclassifier\n",
      "{'bootstrap': False,\n",
      " 'ccp_alpha': 0.0,\n",
      " 'class_weight': 'balanced',\n",
      " 'criterion': 'gini',\n",
      " 'max_depth': None,\n",
      " 'max_features': 'sqrt',\n",
      " 'max_leaf_nodes': None,\n",
      " 'max_samples': None,\n",
      " 'min_impurity_decrease': 0.0,\n",
      " 'min_impurity_split': None,\n",
      " 'min_samples_leaf': 0.06157894736842105,\n",
      " 'min_samples_split': 0.10368421052631578,\n",
      " 'min_weight_fraction_leaf': 0.0,\n",
      " 'n_estimators': 50,\n",
      " 'n_jobs': 1,\n",
      " 'oob_score': False,\n",
      " 'random_state': None,\n",
      " 'verbose': 0,\n",
      " 'warm_start': False}\n",
      "\n",
      "14 - maxabsscaler\n",
      "{'copy': True}\n",
      "\n",
      "14 - sgdclassifierwrapper\n",
      "{'alpha': 0.6123387755102041,\n",
      " 'class_weight': None,\n",
      " 'eta0': 0.01,\n",
      " 'fit_intercept': True,\n",
      " 'l1_ratio': 0.4081632653061224,\n",
      " 'learning_rate': 'constant',\n",
      " 'loss': 'hinge',\n",
      " 'max_iter': 1000,\n",
      " 'n_jobs': 1,\n",
      " 'penalty': 'none',\n",
      " 'power_t': 0.8888888888888888,\n",
      " 'random_state': None,\n",
      " 'tol': 0.001}\n",
      "\n",
      "1 - sparsenormalizer\n",
      "{'copy': True, 'norm': 'l2'}\n",
      "\n",
      "1 - kneighborsclassifier\n",
      "{'algorithm': 'auto',\n",
      " 'leaf_size': 30,\n",
      " 'metric': 'l1',\n",
      " 'metric_params': None,\n",
      " 'n_jobs': 1,\n",
      " 'n_neighbors': 9,\n",
      " 'p': 2,\n",
      " 'weights': 'distance'}\n",
      "\n",
      "21 - robustscaler\n",
      "{'copy': True,\n",
      " 'quantile_range': [10, 90],\n",
      " 'with_centering': True,\n",
      " 'with_scaling': False}\n",
      "\n",
      "21 - svcwrapper\n",
      "{'C': 2222.996482526191,\n",
      " 'break_ties': False,\n",
      " 'cache_size': 200,\n",
      " 'class_weight': 'balanced',\n",
      " 'coef0': 0.0,\n",
      " 'decision_function_shape': 'ovr',\n",
      " 'degree': 3,\n",
      " 'gamma': 'scale',\n",
      " 'kernel': 'rbf',\n",
      " 'max_iter': -1,\n",
      " 'probability': True,\n",
      " 'random_state': None,\n",
      " 'shrinking': True,\n",
      " 'tol': 0.001,\n",
      " 'verbose': False}\n",
      "\n"
     ]
    }
   ],
   "source": [
    "print_model(best_automl_model)"
   ]
  },
  {
   "cell_type": "code",
   "execution_count": 15,
   "metadata": {
    "gather": {
     "logged": 1598431426111
    },
    "jupyter": {
     "outputs_hidden": false,
     "source_hidden": false
    },
    "nteract": {
     "transient": {
      "deleting": false
     }
    }
   },
   "outputs": [
    {
     "output_type": "execute_result",
     "data": {
      "text/plain": [
       "['outputs/automl_model.joblib']"
      ],
      "text/html": "['outputs/automl_model.joblib']"
     },
     "metadata": {},
     "execution_count": 15
    }
   ],
   "source": [
    "#TODO: Save the best model\n",
    "joblib.dump(best_automl_model, \"outputs/automl_model.joblib\")"
   ]
  },
  {
   "source": [
    "model = Model.register(\n",
    "    workspace=ws,\n",
    "    model_path=\"outputs/automl_model.joblib\",\n",
    "    model_name=\"AutoML_Voting_Ensemble\",\n",
    "    tags={\"accuracy\": 0.8543},\n",
    "    description=\"default_status prediction model\"\n",
    ")"
   ],
   "cell_type": "code",
   "metadata": {},
   "execution_count": 17,
   "outputs": [
    {
     "output_type": "stream",
     "name": "stdout",
     "text": [
      "Registering model AutoML_Voting_Ensemble\n"
     ]
    }
   ]
  },
  {
   "cell_type": "markdown",
   "metadata": {},
   "source": [
    "## Model Deployment\n",
    "\n",
    "Remember you have to deploy only one of the two models you trained.. Perform the steps in the rest of this notebook only if you wish to deploy this model.\n",
    "\n",
    "TODO: In the cell below, register the model, create an inference config and deploy the model as a web service."
   ]
  },
  {
   "cell_type": "code",
   "execution_count": null,
   "metadata": {
    "gather": {
     "logged": 1598431435189
    },
    "jupyter": {
     "outputs_hidden": false,
     "source_hidden": false
    },
    "nteract": {
     "transient": {
      "deleting": false
     }
    }
   },
   "outputs": [],
   "source": []
  },
  {
   "cell_type": "markdown",
   "metadata": {
    "collapsed": true,
    "gather": {
     "logged": 1598431657736
    },
    "jupyter": {
     "outputs_hidden": false,
     "source_hidden": false
    },
    "nteract": {
     "transient": {
      "deleting": false
     }
    }
   },
   "source": [
    "TODO: In the cell below, send a request to the web service you deployed to test it."
   ]
  },
  {
   "cell_type": "code",
   "execution_count": null,
   "metadata": {
    "gather": {
     "logged": 1598432707604
    },
    "jupyter": {
     "outputs_hidden": false,
     "source_hidden": false
    },
    "nteract": {
     "transient": {
      "deleting": false
     }
    }
   },
   "outputs": [],
   "source": []
  },
  {
   "cell_type": "markdown",
   "metadata": {
    "collapsed": true,
    "gather": {
     "logged": 1598432765711
    },
    "jupyter": {
     "outputs_hidden": false,
     "source_hidden": false
    },
    "nteract": {
     "transient": {
      "deleting": false
     }
    }
   },
   "source": [
    "TODO: In the cell below, print the logs of the web service and delete the service"
   ]
  },
  {
   "cell_type": "code",
   "execution_count": null,
   "metadata": {
    "jupyter": {
     "outputs_hidden": false,
     "source_hidden": false
    },
    "nteract": {
     "transient": {
      "deleting": false
     }
    }
   },
   "outputs": [],
   "source": []
  }
 ],
 "metadata": {
  "kernel_info": {
   "name": "python3-azureml"
  },
  "kernelspec": {
   "name": "Python 3.6.8 64-bit",
   "display_name": "Python 3.6.8 64-bit",
   "metadata": {
    "interpreter": {
     "hash": "538e5862d24b1a3e5ce3680bcbc1bfded8e90787fb231efa28bb458150bc0bcd"
    }
   }
  },
  "language_info": {
   "codemirror_mode": {
    "name": "ipython",
    "version": 3
   },
   "file_extension": ".py",
   "mimetype": "text/x-python",
   "name": "python",
   "nbconvert_exporter": "python",
   "pygments_lexer": "ipython3",
   "version": "3.6.8-final"
  },
  "nteract": {
   "version": "nteract-front-end@1.0.0"
  }
 },
 "nbformat": 4,
 "nbformat_minor": 2
}